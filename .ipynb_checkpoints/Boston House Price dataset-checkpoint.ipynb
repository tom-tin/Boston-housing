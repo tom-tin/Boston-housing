{
 "cells": [
  {
   "cell_type": "markdown",
   "metadata": {},
   "source": [
    "# Purpose: To understanding the Boston House Price dataset\n",
    "\n",
    "## Techniques use: Visualization + Linear Regression + Decision Tree + Random Forest + Comparison between these methods"
   ]
  },
  {
   "cell_type": "markdown",
   "metadata": {},
   "source": [
    "### Outline:\n",
    "\n",
    "    Step 1: Getting and setting up the data.\n",
    "    Step 2: Load the data.\n",
    "    Step 3: Visualize the data.\n",
    "    Step 4: Do a LS- Simple Linear Regression (Using Numpy), cal the error.\n",
    "    Step 5: Using scikit learn to implement a multivariate regression (use .fit() to train and .predict() to predict new labels.\n",
    "    Step 6: Using Training and Validation, Predicting Prices\n",
    "    Step 7: Residual Plots\n",
    "    \n",
    "    Step 8: Use Decision Tree (lone tree) and Random Forest to predict and compare that to LR"
   ]
  },
  {
   "cell_type": "markdown",
   "metadata": {},
   "source": [
    "# Step 1: Importing"
   ]
  },
  {
   "cell_type": "markdown",
   "metadata": {},
   "source": [
    "** Note that this is a sklearn's built-in dataset.** To read it, you can either import it directly from scikit-learn, or read from the file containing the data (found at https://archive.ics.uci.edu/ml/machine-learning-databases/housing/)"
   ]
  },
  {
   "cell_type": "code",
   "execution_count": 2,
   "metadata": {
    "collapsed": false
   },
   "outputs": [],
   "source": [
    "import numpy as np \n",
    "import pandas as pd\n",
    "from pandas import Series,DataFrame"
   ]
  },
  {
   "cell_type": "markdown",
   "metadata": {},
   "source": [
    "Imports for plotting"
   ]
  },
  {
   "cell_type": "code",
   "execution_count": 62,
   "metadata": {
    "collapsed": true
   },
   "outputs": [],
   "source": [
    "import matplotlib.pyplot as plt\n",
    "import seaborn as sns\n",
    "sns.set_style('whitegrid')\n",
    "%matplotlib inline\n",
    "\n",
    "\n",
    "# Imports that only needed for Multiple Linear Regression\n",
    "import sklearn\n",
    "from sklearn.linear_model import LinearRegression\n",
    "\n",
    "#Imports that only needed for comparison between LR and DT as well as RF later.\n",
    "from sklearn.preprocessing import LabelEncoder, StandardScaler\n",
    "from sklearn.tree import DecisionTreeRegressor\n",
    "from sklearn.ensemble import RandomForestRegressor\n",
    "from sklearn.model_selection import cross_val_score"
   ]
  },
  {
   "cell_type": "markdown",
   "metadata": {},
   "source": [
    "# Step 2: Read data"
   ]
  },
  {
   "cell_type": "markdown",
   "metadata": {},
   "source": [
    "### Method1: it's built-in in sklearn, so we can import directly:"
   ]
  },
  {
   "cell_type": "code",
   "execution_count": 5,
   "metadata": {
    "collapsed": false
   },
   "outputs": [
    {
     "data": {
      "text/plain": [
       "sklearn.datasets.base.Bunch"
      ]
     },
     "execution_count": 5,
     "metadata": {},
     "output_type": "execute_result"
    }
   ],
   "source": [
    "from sklearn.datasets import load_boston\n",
    "boston = load_boston()\n",
    "type(boston) #sklearn.datasets.base.Bunch\n",
    "\n",
    "# Similar to sklearn, seaborn also has its built-in dataset, for example:\n",
    "# tips = sns.load_dataset(\"tips\") # The \"tips\" dataset in seaborn."
   ]
  },
  {
   "cell_type": "markdown",
   "metadata": {},
   "source": [
    "Note that now boston is a sklearn object (it is not a dataframe yet). With this sklearn object, we can call:\n",
    "1. boston.target, which is the prices of the house. Imagine this is one col of the dataframe\n",
    "2. boston.data, which is all the 13 attributes for this data. So these are all the other 13 cols of the dataframe."
   ]
  },
  {
   "cell_type": "markdown",
   "metadata": {},
   "source": [
    "Let's see what the data set contains"
   ]
  },
  {
   "cell_type": "code",
   "execution_count": 6,
   "metadata": {
    "collapsed": false
   },
   "outputs": [
    {
     "name": "stdout",
     "output_type": "stream",
     "text": [
      "Boston House Prices dataset\n",
      "===========================\n",
      "\n",
      "Notes\n",
      "------\n",
      "Data Set Characteristics:  \n",
      "\n",
      "    :Number of Instances: 506 \n",
      "\n",
      "    :Number of Attributes: 13 numeric/categorical predictive\n",
      "    \n",
      "    :Median Value (attribute 14) is usually the target\n",
      "\n",
      "    :Attribute Information (in order):\n",
      "        - CRIM     per capita crime rate by town\n",
      "        - ZN       proportion of residential land zoned for lots over 25,000 sq.ft.\n",
      "        - INDUS    proportion of non-retail business acres per town\n",
      "        - CHAS     Charles River dummy variable (= 1 if tract bounds river; 0 otherwise)\n",
      "        - NOX      nitric oxides concentration (parts per 10 million)\n",
      "        - RM       average number of rooms per dwelling\n",
      "        - AGE      proportion of owner-occupied units built prior to 1940\n",
      "        - DIS      weighted distances to five Boston employment centres\n",
      "        - RAD      index of accessibility to radial highways\n",
      "        - TAX      full-value property-tax rate per $10,000\n",
      "        - PTRATIO  pupil-teacher ratio by town\n",
      "        - B        1000(Bk - 0.63)^2 where Bk is the proportion of blacks by town\n",
      "        - LSTAT    % lower status of the population\n",
      "        - MEDV     Median value of owner-occupied homes in $1000's\n",
      "\n",
      "    :Missing Attribute Values: None\n",
      "\n",
      "    :Creator: Harrison, D. and Rubinfeld, D.L.\n",
      "\n",
      "This is a copy of UCI ML housing dataset.\n",
      "http://archive.ics.uci.edu/ml/datasets/Housing\n",
      "\n",
      "\n",
      "This dataset was taken from the StatLib library which is maintained at Carnegie Mellon University.\n",
      "\n",
      "The Boston house-price data of Harrison, D. and Rubinfeld, D.L. 'Hedonic\n",
      "prices and the demand for clean air', J. Environ. Economics & Management,\n",
      "vol.5, 81-102, 1978.   Used in Belsley, Kuh & Welsch, 'Regression diagnostics\n",
      "...', Wiley, 1980.   N.B. Various transformations are used in the table on\n",
      "pages 244-261 of the latter.\n",
      "\n",
      "The Boston house-price data has been used in many machine learning papers that address regression\n",
      "problems.   \n",
      "     \n",
      "**References**\n",
      "\n",
      "   - Belsley, Kuh & Welsch, 'Regression diagnostics: Identifying Influential Data and Sources of Collinearity', Wiley, 1980. 244-261.\n",
      "   - Quinlan,R. (1993). Combining Instance-Based and Model-Based Learning. In Proceedings on the Tenth International Conference of Machine Learning, 236-243, University of Massachusetts, Amherst. Morgan Kaufmann.\n",
      "   - many more! (see http://archive.ics.uci.edu/ml/datasets/Housing)\n",
      "\n"
     ]
    }
   ],
   "source": [
    "print(boston.DESCR)"
   ]
  },
  {
   "cell_type": "markdown",
   "metadata": {},
   "source": [
    "So, INTPUT are those 13 attributes/features. OUTPUT is the 'MEDV' (median value of owner-occupied homes in $1000's. We also call it the TARGET/LABEL\n",
    "\n",
    "Objective: Predict the output (price of the house) based on the input attributes."
   ]
  },
  {
   "cell_type": "markdown",
   "metadata": {},
   "source": [
    "### Method2: read it from the data file available at:\n",
    "https://archive.ics.uci.edu/ml/machine-learning-databases/housing/"
   ]
  },
  {
   "cell_type": "code",
   "execution_count": 16,
   "metadata": {
    "collapsed": false
   },
   "outputs": [
    {
     "name": "stderr",
     "output_type": "stream",
     "text": [
      "C:\\Users\\Tho7\\Anaconda3\\lib\\site-packages\\pandas\\io\\parsers.py:1728: FutureWarning: split() requires a non-empty pattern match.\n",
      "  yield pat.split(line.strip())\n",
      "C:\\Users\\Tho7\\Anaconda3\\lib\\site-packages\\pandas\\io\\parsers.py:1730: FutureWarning: split() requires a non-empty pattern match.\n",
      "  yield pat.split(line.strip())\n"
     ]
    },
    {
     "data": {
      "text/html": [
       "<div>\n",
       "<table border=\"1\" class=\"dataframe\">\n",
       "  <thead>\n",
       "    <tr style=\"text-align: right;\">\n",
       "      <th></th>\n",
       "      <th>crim</th>\n",
       "      <th>zn</th>\n",
       "      <th>nonretail</th>\n",
       "      <th>river</th>\n",
       "      <th>nox</th>\n",
       "      <th>rooms</th>\n",
       "      <th>age</th>\n",
       "      <th>dis</th>\n",
       "      <th>rad</th>\n",
       "      <th>tax</th>\n",
       "      <th>ptratio</th>\n",
       "      <th>b</th>\n",
       "      <th>lstat</th>\n",
       "      <th>medv</th>\n",
       "    </tr>\n",
       "  </thead>\n",
       "  <tbody>\n",
       "    <tr>\n",
       "      <th>0</th>\n",
       "      <td>0.00632</td>\n",
       "      <td>18.0</td>\n",
       "      <td>2.31</td>\n",
       "      <td>0</td>\n",
       "      <td>0.538</td>\n",
       "      <td>6.575</td>\n",
       "      <td>65.2</td>\n",
       "      <td>4.0900</td>\n",
       "      <td>1</td>\n",
       "      <td>296.0</td>\n",
       "      <td>15.3</td>\n",
       "      <td>396.90</td>\n",
       "      <td>4.98</td>\n",
       "      <td>24.0</td>\n",
       "    </tr>\n",
       "    <tr>\n",
       "      <th>1</th>\n",
       "      <td>0.02731</td>\n",
       "      <td>0.0</td>\n",
       "      <td>7.07</td>\n",
       "      <td>0</td>\n",
       "      <td>0.469</td>\n",
       "      <td>6.421</td>\n",
       "      <td>78.9</td>\n",
       "      <td>4.9671</td>\n",
       "      <td>2</td>\n",
       "      <td>242.0</td>\n",
       "      <td>17.8</td>\n",
       "      <td>396.90</td>\n",
       "      <td>9.14</td>\n",
       "      <td>21.6</td>\n",
       "    </tr>\n",
       "    <tr>\n",
       "      <th>2</th>\n",
       "      <td>0.02729</td>\n",
       "      <td>0.0</td>\n",
       "      <td>7.07</td>\n",
       "      <td>0</td>\n",
       "      <td>0.469</td>\n",
       "      <td>7.185</td>\n",
       "      <td>61.1</td>\n",
       "      <td>4.9671</td>\n",
       "      <td>2</td>\n",
       "      <td>242.0</td>\n",
       "      <td>17.8</td>\n",
       "      <td>392.83</td>\n",
       "      <td>4.03</td>\n",
       "      <td>34.7</td>\n",
       "    </tr>\n",
       "    <tr>\n",
       "      <th>3</th>\n",
       "      <td>0.03237</td>\n",
       "      <td>0.0</td>\n",
       "      <td>2.18</td>\n",
       "      <td>0</td>\n",
       "      <td>0.458</td>\n",
       "      <td>6.998</td>\n",
       "      <td>45.8</td>\n",
       "      <td>6.0622</td>\n",
       "      <td>3</td>\n",
       "      <td>222.0</td>\n",
       "      <td>18.7</td>\n",
       "      <td>394.63</td>\n",
       "      <td>2.94</td>\n",
       "      <td>33.4</td>\n",
       "    </tr>\n",
       "    <tr>\n",
       "      <th>4</th>\n",
       "      <td>0.06905</td>\n",
       "      <td>0.0</td>\n",
       "      <td>2.18</td>\n",
       "      <td>0</td>\n",
       "      <td>0.458</td>\n",
       "      <td>7.147</td>\n",
       "      <td>54.2</td>\n",
       "      <td>6.0622</td>\n",
       "      <td>3</td>\n",
       "      <td>222.0</td>\n",
       "      <td>18.7</td>\n",
       "      <td>396.90</td>\n",
       "      <td>5.33</td>\n",
       "      <td>36.2</td>\n",
       "    </tr>\n",
       "  </tbody>\n",
       "</table>\n",
       "</div>"
      ],
      "text/plain": [
       "      crim    zn  nonretail  river    nox  rooms   age     dis  rad    tax  \\\n",
       "0  0.00632  18.0       2.31      0  0.538  6.575  65.2  4.0900    1  296.0   \n",
       "1  0.02731   0.0       7.07      0  0.469  6.421  78.9  4.9671    2  242.0   \n",
       "2  0.02729   0.0       7.07      0  0.469  7.185  61.1  4.9671    2  242.0   \n",
       "3  0.03237   0.0       2.18      0  0.458  6.998  45.8  6.0622    3  222.0   \n",
       "4  0.06905   0.0       2.18      0  0.458  7.147  54.2  6.0622    3  222.0   \n",
       "\n",
       "   ptratio       b  lstat  medv  \n",
       "0     15.3  396.90   4.98  24.0  \n",
       "1     17.8  396.90   9.14  21.6  \n",
       "2     17.8  392.83   4.03  34.7  \n",
       "3     18.7  394.63   2.94  33.4  \n",
       "4     18.7  396.90   5.33  36.2  "
      ]
     },
     "execution_count": 16,
     "metadata": {},
     "output_type": "execute_result"
    }
   ],
   "source": [
    "df = pd.read_csv('./housing.data', header=None, sep=r\"\\s*\", engine='python')\n",
    "df.columns = [\n",
    "        'crim', # numerical\n",
    "        'zn', # numerical\n",
    "        'nonretail', # numerical\n",
    "        'river', # binary\n",
    "        'nox', # numerical\n",
    "        'rooms', # numerical\n",
    "        'age', # numerical\n",
    "        'dis', # numerical\n",
    "        'rad', # numerical\n",
    "        'tax', # numerical\n",
    "        'ptratio', # numerical\n",
    "        'b', # numerical\n",
    "        'lstat', # numerical\n",
    "        'medv', # numerical -- this is the target\n",
    "]\n",
    "df.head()"
   ]
  },
  {
   "cell_type": "markdown",
   "metadata": {},
   "source": [
    "# Step 3: Visualizing current data"
   ]
  },
  {
   "cell_type": "markdown",
   "metadata": {},
   "source": [
    "You should always try to do a quick visualization fo the data you have. Let's go ahead an make a histogram of the prices."
   ]
  },
  {
   "cell_type": "code",
   "execution_count": 7,
   "metadata": {
    "collapsed": false
   },
   "outputs": [
    {
     "data": {
      "text/plain": [
       "<matplotlib.text.Text at 0xb4c5ef0>"
      ]
     },
     "execution_count": 7,
     "metadata": {},
     "output_type": "execute_result"
    },
    {
     "data": {
      "image/png": "[encoded data removed]",
      "text/plain": [
       "<matplotlib.figure.Figure at 0xb472c18>"
      ]
     },
     "metadata": {},
     "output_type": "display_data"
    }
   ],
   "source": [
    "# Histogram of prices (this is the target of our dataset)\n",
    "plt.hist(boston.target,bins=50)\n",
    "# you can do that since this housing is a built-in data set, created for\n",
    "# scikit-learn itself to show its capability of ML, so it's already been cleaned.\n",
    "# THUS, when working with real data, it might not be clean enough for you to\n",
    "# just call this method .target\n",
    "\n",
    "#label\n",
    "plt.xlabel('Price in $1000s')\n",
    "plt.ylabel('Number of houses')"
   ]
  },
  {
   "cell_type": "code",
   "execution_count": 8,
   "metadata": {
    "collapsed": false
   },
   "outputs": [
    {
     "data": {
      "text/plain": [
       "array([ 24. ,  21.6,  34.7,  33.4,  36.2,  28.7,  22.9,  27.1,  16.5,\n",
       "        18.9,  15. ,  18.9,  21.7,  20.4,  18.2,  19.9,  23.1,  17.5,\n",
       "        20.2,  18.2,  13.6,  19.6,  15.2,  14.5,  15.6,  13.9,  16.6,\n",
       "        14.8,  18.4,  21. ,  12.7,  14.5,  13.2,  13.1,  13.5,  18.9,\n",
       "        20. ,  21. ,  24.7,  30.8,  34.9,  26.6,  25.3,  24.7,  21.2,\n",
       "        19.3,  20. ,  16.6,  14.4,  19.4,  19.7,  20.5,  25. ,  23.4,\n",
       "        18.9,  35.4,  24.7,  31.6,  23.3,  19.6,  18.7,  16. ,  22.2,\n",
       "        25. ,  33. ,  23.5,  19.4,  22. ,  17.4,  20.9,  24.2,  21.7,\n",
       "        22.8,  23.4,  24.1,  21.4,  20. ,  20.8,  21.2,  20.3,  28. ,\n",
       "        23.9,  24.8,  22.9,  23.9,  26.6,  22.5,  22.2,  23.6,  28.7,\n",
       "        22.6,  22. ,  22.9,  25. ,  20.6,  28.4,  21.4,  38.7,  43.8,\n",
       "        33.2,  27.5,  26.5,  18.6,  19.3,  20.1,  19.5,  19.5,  20.4,\n",
       "        19.8,  19.4,  21.7,  22.8,  18.8,  18.7,  18.5,  18.3,  21.2,\n",
       "        19.2,  20.4,  19.3,  22. ,  20.3,  20.5,  17.3,  18.8,  21.4,\n",
       "        15.7,  16.2,  18. ,  14.3,  19.2,  19.6,  23. ,  18.4,  15.6,\n",
       "        18.1,  17.4,  17.1,  13.3,  17.8,  14. ,  14.4,  13.4,  15.6,\n",
       "        11.8,  13.8,  15.6,  14.6,  17.8,  15.4,  21.5,  19.6,  15.3,\n",
       "        19.4,  17. ,  15.6,  13.1,  41.3,  24.3,  23.3,  27. ,  50. ,\n",
       "        50. ,  50. ,  22.7,  25. ,  50. ,  23.8,  23.8,  22.3,  17.4,\n",
       "        19.1,  23.1,  23.6,  22.6,  29.4,  23.2,  24.6,  29.9,  37.2,\n",
       "        39.8,  36.2,  37.9,  32.5,  26.4,  29.6,  50. ,  32. ,  29.8,\n",
       "        34.9,  37. ,  30.5,  36.4,  31.1,  29.1,  50. ,  33.3,  30.3,\n",
       "        34.6,  34.9,  32.9,  24.1,  42.3,  48.5,  50. ,  22.6,  24.4,\n",
       "        22.5,  24.4,  20. ,  21.7,  19.3,  22.4,  28.1,  23.7,  25. ,\n",
       "        23.3,  28.7,  21.5,  23. ,  26.7,  21.7,  27.5,  30.1,  44.8,\n",
       "        50. ,  37.6,  31.6,  46.7,  31.5,  24.3,  31.7,  41.7,  48.3,\n",
       "        29. ,  24. ,  25.1,  31.5,  23.7,  23.3,  22. ,  20.1,  22.2,\n",
       "        23.7,  17.6,  18.5,  24.3,  20.5,  24.5,  26.2,  24.4,  24.8,\n",
       "        29.6,  42.8,  21.9,  20.9,  44. ,  50. ,  36. ,  30.1,  33.8,\n",
       "        43.1,  48.8,  31. ,  36.5,  22.8,  30.7,  50. ,  43.5,  20.7,\n",
       "        21.1,  25.2,  24.4,  35.2,  32.4,  32. ,  33.2,  33.1,  29.1,\n",
       "        35.1,  45.4,  35.4,  46. ,  50. ,  32.2,  22. ,  20.1,  23.2,\n",
       "        22.3,  24.8,  28.5,  37.3,  27.9,  23.9,  21.7,  28.6,  27.1,\n",
       "        20.3,  22.5,  29. ,  24.8,  22. ,  26.4,  33.1,  36.1,  28.4,\n",
       "        33.4,  28.2,  22.8,  20.3,  16.1,  22.1,  19.4,  21.6,  23.8,\n",
       "        16.2,  17.8,  19.8,  23.1,  21. ,  23.8,  23.1,  20.4,  18.5,\n",
       "        25. ,  24.6,  23. ,  22.2,  19.3,  22.6,  19.8,  17.1,  19.4,\n",
       "        22.2,  20.7,  21.1,  19.5,  18.5,  20.6,  19. ,  18.7,  32.7,\n",
       "        16.5,  23.9,  31.2,  17.5,  17.2,  23.1,  24.5,  26.6,  22.9,\n",
       "        24.1,  18.6,  30.1,  18.2,  20.6,  17.8,  21.7,  22.7,  22.6,\n",
       "        25. ,  19.9,  20.8,  16.8,  21.9,  27.5,  21.9,  23.1,  50. ,\n",
       "        50. ,  50. ,  50. ,  50. ,  13.8,  13.8,  15. ,  13.9,  13.3,\n",
       "        13.1,  10.2,  10.4,  10.9,  11.3,  12.3,   8.8,   7.2,  10.5,\n",
       "         7.4,  10.2,  11.5,  15.1,  23.2,   9.7,  13.8,  12.7,  13.1,\n",
       "        12.5,   8.5,   5. ,   6.3,   5.6,   7.2,  12.1,   8.3,   8.5,\n",
       "         5. ,  11.9,  27.9,  17.2,  27.5,  15. ,  17.2,  17.9,  16.3,\n",
       "         7. ,   7.2,   7.5,  10.4,   8.8,   8.4,  16.7,  14.2,  20.8,\n",
       "        13.4,  11.7,   8.3,  10.2,  10.9,  11. ,   9.5,  14.5,  14.1,\n",
       "        16.1,  14.3,  11.7,  13.4,   9.6,   8.7,   8.4,  12.8,  10.5,\n",
       "        17.1,  18.4,  15.4,  10.8,  11.8,  14.9,  12.6,  14.1,  13. ,\n",
       "        13.4,  15.2,  16.1,  17.8,  14.9,  14.1,  12.7,  13.5,  14.9,\n",
       "        20. ,  16.4,  17.7,  19.5,  20.2,  21.4,  19.9,  19. ,  19.1,\n",
       "        19.1,  20.1,  19.9,  19.6,  23.2,  29.8,  13.8,  13.3,  16.7,\n",
       "        12. ,  14.6,  21.4,  23. ,  23.7,  25. ,  21.8,  20.6,  21.2,\n",
       "        19.1,  20.6,  15.2,   7. ,   8.1,  13.6,  20.1,  21.8,  24.5,\n",
       "        23.1,  19.7,  18.3,  21.2,  17.5,  16.8,  22.4,  20.6,  23.9,\n",
       "        22. ,  11.9])"
      ]
     },
     "execution_count": 8,
     "metadata": {},
     "output_type": "execute_result"
    }
   ],
   "source": [
    "boston.target # a numpy array. If we use a col of dataframe, you need to\n",
    "# convert it: target = np.array(target)\n",
    "#type(boston.target)"
   ]
  },
  {
   "cell_type": "code",
   "execution_count": 9,
   "metadata": {
    "collapsed": false
   },
   "outputs": [
    {
     "data": {
      "text/plain": [
       "<matplotlib.text.Text at 0xb4dca20>"
      ]
     },
     "execution_count": 9,
     "metadata": {},
     "output_type": "execute_result"
    },
    {
     "data": {
      "image/png": "[encoded data removed]",
      "text/plain": [
       "<matplotlib.figure.Figure at 0xb73d588>"
      ]
     },
     "metadata": {},
     "output_type": "display_data"
    }
   ],
   "source": [
    "# Plot the column at the 5 index (Labeled RM) (Check back the dataset description)\n",
    "plt.scatter(boston.data[:,5],boston.target)# : means using all data points,\n",
    "# 5 means using that 6th column, RM.\n",
    "\n",
    "#label\n",
    "plt.ylabel('Price in $1000s')\n",
    "plt.xlabel('Number of rooms')"
   ]
  },
  {
   "cell_type": "markdown",
   "metadata": {},
   "source": [
    "Doing this scatter plot is important to discover the pattern in data. As this plot show, using LR to predict Price on the basis of the number of rooms might be a reasonable choice. Moreover, later we will see how we can improve the prediction by adding more features in to the prediction. In particular, using a MLR model with all the features included, we get back a set of estimated coefficients (slopes), each corresponds to a single feature. We will then need to verify that the coefficient corresponding to the number of the room is positive and is the highest among all other coefficients.\n",
    "\n",
    "Another way to verify that your LR model is a good model is to check other scores, such as R^2 value (higher better), or SSE (lower, better). BUT one good way to remember is VISUALIZATION. This means you can check by simply plotting the <span style=\"color:red\">Residuals Plot</span> (will do this in a moment). NOTE that I stress the keyword: visualization! It is the best way to see which model to choose as well as to verify the chosen model! \n",
    "(However, remember though that some characteristics might be missing if just looking at the visualization alone).\n",
    "\n",
    "Residual plots are **a good way to visualize the errors in your data**.  **If you have done a good job then your data should be randomly scattered around line zero**. \n",
    "\n",
    "#### If there is some strucutre or pattern, that means your model is not capturing some thing. There could be an interaction between 2 variables that you're not considering, or may be you are measuring time dependent data. If this is the case go back to your model and check your data set closely.\n",
    "\n",
    "To check this linear pattern further, we can use seaborn to do an lmplot which produce a scatter plot with a linear fit line **automatically!**. But to do that, first we need to convert the boston object to a boston dataframe."
   ]
  },
  {
   "cell_type": "code",
   "execution_count": 10,
   "metadata": {
    "collapsed": false
   },
   "outputs": [
    {
     "data": {
      "text/html": [
       "<div>\n",
       "<table border=\"1\" class=\"dataframe\">\n",
       "  <thead>\n",
       "    <tr style=\"text-align: right;\">\n",
       "      <th></th>\n",
       "      <th>CRIM</th>\n",
       "      <th>ZN</th>\n",
       "      <th>INDUS</th>\n",
       "      <th>CHAS</th>\n",
       "      <th>NOX</th>\n",
       "      <th>RM</th>\n",
       "      <th>AGE</th>\n",
       "      <th>DIS</th>\n",
       "      <th>RAD</th>\n",
       "      <th>TAX</th>\n",
       "      <th>PTRATIO</th>\n",
       "      <th>B</th>\n",
       "      <th>LSTAT</th>\n",
       "    </tr>\n",
       "  </thead>\n",
       "  <tbody>\n",
       "    <tr>\n",
       "      <th>0</th>\n",
       "      <td>0.00632</td>\n",
       "      <td>18.0</td>\n",
       "      <td>2.31</td>\n",
       "      <td>0.0</td>\n",
       "      <td>0.538</td>\n",
       "      <td>6.575</td>\n",
       "      <td>65.2</td>\n",
       "      <td>4.0900</td>\n",
       "      <td>1.0</td>\n",
       "      <td>296.0</td>\n",
       "      <td>15.3</td>\n",
       "      <td>396.90</td>\n",
       "      <td>4.98</td>\n",
       "    </tr>\n",
       "    <tr>\n",
       "      <th>1</th>\n",
       "      <td>0.02731</td>\n",
       "      <td>0.0</td>\n",
       "      <td>7.07</td>\n",
       "      <td>0.0</td>\n",
       "      <td>0.469</td>\n",
       "      <td>6.421</td>\n",
       "      <td>78.9</td>\n",
       "      <td>4.9671</td>\n",
       "      <td>2.0</td>\n",
       "      <td>242.0</td>\n",
       "      <td>17.8</td>\n",
       "      <td>396.90</td>\n",
       "      <td>9.14</td>\n",
       "    </tr>\n",
       "    <tr>\n",
       "      <th>2</th>\n",
       "      <td>0.02729</td>\n",
       "      <td>0.0</td>\n",
       "      <td>7.07</td>\n",
       "      <td>0.0</td>\n",
       "      <td>0.469</td>\n",
       "      <td>7.185</td>\n",
       "      <td>61.1</td>\n",
       "      <td>4.9671</td>\n",
       "      <td>2.0</td>\n",
       "      <td>242.0</td>\n",
       "      <td>17.8</td>\n",
       "      <td>392.83</td>\n",
       "      <td>4.03</td>\n",
       "    </tr>\n",
       "    <tr>\n",
       "      <th>3</th>\n",
       "      <td>0.03237</td>\n",
       "      <td>0.0</td>\n",
       "      <td>2.18</td>\n",
       "      <td>0.0</td>\n",
       "      <td>0.458</td>\n",
       "      <td>6.998</td>\n",
       "      <td>45.8</td>\n",
       "      <td>6.0622</td>\n",
       "      <td>3.0</td>\n",
       "      <td>222.0</td>\n",
       "      <td>18.7</td>\n",
       "      <td>394.63</td>\n",
       "      <td>2.94</td>\n",
       "    </tr>\n",
       "    <tr>\n",
       "      <th>4</th>\n",
       "      <td>0.06905</td>\n",
       "      <td>0.0</td>\n",
       "      <td>2.18</td>\n",
       "      <td>0.0</td>\n",
       "      <td>0.458</td>\n",
       "      <td>7.147</td>\n",
       "      <td>54.2</td>\n",
       "      <td>6.0622</td>\n",
       "      <td>3.0</td>\n",
       "      <td>222.0</td>\n",
       "      <td>18.7</td>\n",
       "      <td>396.90</td>\n",
       "      <td>5.33</td>\n",
       "    </tr>\n",
       "  </tbody>\n",
       "</table>\n",
       "</div>"
      ],
      "text/plain": [
       "      CRIM    ZN  INDUS  CHAS    NOX     RM   AGE     DIS  RAD    TAX  \\\n",
       "0  0.00632  18.0   2.31   0.0  0.538  6.575  65.2  4.0900  1.0  296.0   \n",
       "1  0.02731   0.0   7.07   0.0  0.469  6.421  78.9  4.9671  2.0  242.0   \n",
       "2  0.02729   0.0   7.07   0.0  0.469  7.185  61.1  4.9671  2.0  242.0   \n",
       "3  0.03237   0.0   2.18   0.0  0.458  6.998  45.8  6.0622  3.0  222.0   \n",
       "4  0.06905   0.0   2.18   0.0  0.458  7.147  54.2  6.0622  3.0  222.0   \n",
       "\n",
       "   PTRATIO       B  LSTAT  \n",
       "0     15.3  396.90   4.98  \n",
       "1     17.8  396.90   9.14  \n",
       "2     17.8  392.83   4.03  \n",
       "3     18.7  394.63   2.94  \n",
       "4     18.7  396.90   5.33  "
      ]
     },
     "execution_count": 10,
     "metadata": {},
     "output_type": "execute_result"
    }
   ],
   "source": [
    "# reset data as pandas DataFrame\n",
    "boston_df = DataFrame(boston.data)\n",
    "\n",
    "# label columns (otherwise, the columns names will be 0,1,2... by default)\n",
    "boston_df.columns = boston.feature_names\n",
    "#this feature_names method is also built-in\n",
    "\n",
    "#show\n",
    "boston_df.head()"
   ]
  },
  {
   "cell_type": "markdown",
   "metadata": {},
   "source": [
    "Now let's add the target of the boston data set, the price. We'll create a new column in our DataFrame.\n",
    "** Note that boston.target is a numpy array. But here we actually set the new column of a dataframe to be equal to boston.target**"
   ]
  },
  {
   "cell_type": "code",
   "execution_count": 11,
   "metadata": {
    "collapsed": true
   },
   "outputs": [],
   "source": [
    "# Set price column for target\n",
    "boston_df['Price'] = boston.target"
   ]
  },
  {
   "cell_type": "markdown",
   "metadata": {},
   "source": [
    "Now let's check the resulting DataFrame to see the Price column!"
   ]
  },
  {
   "cell_type": "code",
   "execution_count": 14,
   "metadata": {
    "collapsed": false
   },
   "outputs": [
    {
     "data": {
      "text/html": [
       "<div>\n",
       "<table border=\"1\" class=\"dataframe\">\n",
       "  <thead>\n",
       "    <tr style=\"text-align: right;\">\n",
       "      <th></th>\n",
       "      <th>CRIM</th>\n",
       "      <th>ZN</th>\n",
       "      <th>INDUS</th>\n",
       "      <th>CHAS</th>\n",
       "      <th>NOX</th>\n",
       "      <th>RM</th>\n",
       "      <th>AGE</th>\n",
       "      <th>DIS</th>\n",
       "      <th>RAD</th>\n",
       "      <th>TAX</th>\n",
       "      <th>PTRATIO</th>\n",
       "      <th>B</th>\n",
       "      <th>LSTAT</th>\n",
       "      <th>Price</th>\n",
       "    </tr>\n",
       "  </thead>\n",
       "  <tbody>\n",
       "    <tr>\n",
       "      <th>0</th>\n",
       "      <td>0.00632</td>\n",
       "      <td>18.0</td>\n",
       "      <td>2.31</td>\n",
       "      <td>0.0</td>\n",
       "      <td>0.538</td>\n",
       "      <td>6.575</td>\n",
       "      <td>65.2</td>\n",
       "      <td>4.0900</td>\n",
       "      <td>1.0</td>\n",
       "      <td>296.0</td>\n",
       "      <td>15.3</td>\n",
       "      <td>396.90</td>\n",
       "      <td>4.98</td>\n",
       "      <td>24.0</td>\n",
       "    </tr>\n",
       "    <tr>\n",
       "      <th>1</th>\n",
       "      <td>0.02731</td>\n",
       "      <td>0.0</td>\n",
       "      <td>7.07</td>\n",
       "      <td>0.0</td>\n",
       "      <td>0.469</td>\n",
       "      <td>6.421</td>\n",
       "      <td>78.9</td>\n",
       "      <td>4.9671</td>\n",
       "      <td>2.0</td>\n",
       "      <td>242.0</td>\n",
       "      <td>17.8</td>\n",
       "      <td>396.90</td>\n",
       "      <td>9.14</td>\n",
       "      <td>21.6</td>\n",
       "    </tr>\n",
       "    <tr>\n",
       "      <th>2</th>\n",
       "      <td>0.02729</td>\n",
       "      <td>0.0</td>\n",
       "      <td>7.07</td>\n",
       "      <td>0.0</td>\n",
       "      <td>0.469</td>\n",
       "      <td>7.185</td>\n",
       "      <td>61.1</td>\n",
       "      <td>4.9671</td>\n",
       "      <td>2.0</td>\n",
       "      <td>242.0</td>\n",
       "      <td>17.8</td>\n",
       "      <td>392.83</td>\n",
       "      <td>4.03</td>\n",
       "      <td>34.7</td>\n",
       "    </tr>\n",
       "    <tr>\n",
       "      <th>3</th>\n",
       "      <td>0.03237</td>\n",
       "      <td>0.0</td>\n",
       "      <td>2.18</td>\n",
       "      <td>0.0</td>\n",
       "      <td>0.458</td>\n",
       "      <td>6.998</td>\n",
       "      <td>45.8</td>\n",
       "      <td>6.0622</td>\n",
       "      <td>3.0</td>\n",
       "      <td>222.0</td>\n",
       "      <td>18.7</td>\n",
       "      <td>394.63</td>\n",
       "      <td>2.94</td>\n",
       "      <td>33.4</td>\n",
       "    </tr>\n",
       "    <tr>\n",
       "      <th>4</th>\n",
       "      <td>0.06905</td>\n",
       "      <td>0.0</td>\n",
       "      <td>2.18</td>\n",
       "      <td>0.0</td>\n",
       "      <td>0.458</td>\n",
       "      <td>7.147</td>\n",
       "      <td>54.2</td>\n",
       "      <td>6.0622</td>\n",
       "      <td>3.0</td>\n",
       "      <td>222.0</td>\n",
       "      <td>18.7</td>\n",
       "      <td>396.90</td>\n",
       "      <td>5.33</td>\n",
       "      <td>36.2</td>\n",
       "    </tr>\n",
       "  </tbody>\n",
       "</table>\n",
       "</div>"
      ],
      "text/plain": [
       "      CRIM    ZN  INDUS  CHAS    NOX     RM   AGE     DIS  RAD    TAX  \\\n",
       "0  0.00632  18.0   2.31   0.0  0.538  6.575  65.2  4.0900  1.0  296.0   \n",
       "1  0.02731   0.0   7.07   0.0  0.469  6.421  78.9  4.9671  2.0  242.0   \n",
       "2  0.02729   0.0   7.07   0.0  0.469  7.185  61.1  4.9671  2.0  242.0   \n",
       "3  0.03237   0.0   2.18   0.0  0.458  6.998  45.8  6.0622  3.0  222.0   \n",
       "4  0.06905   0.0   2.18   0.0  0.458  7.147  54.2  6.0622  3.0  222.0   \n",
       "\n",
       "   PTRATIO       B  LSTAT  Price  \n",
       "0     15.3  396.90   4.98   24.0  \n",
       "1     17.8  396.90   9.14   21.6  \n",
       "2     17.8  392.83   4.03   34.7  \n",
       "3     18.7  394.63   2.94   33.4  \n",
       "4     18.7  396.90   5.33   36.2  "
      ]
     },
     "execution_count": 14,
     "metadata": {},
     "output_type": "execute_result"
    }
   ],
   "source": [
    "# Show result\n",
    "boston_df.head()"
   ]
  },
  {
   "cell_type": "code",
   "execution_count": 15,
   "metadata": {
    "collapsed": false
   },
   "outputs": [
    {
     "data": {
      "text/plain": [
       "<seaborn.axisgrid.FacetGrid at 0xb739518>"
      ]
     },
     "execution_count": 15,
     "metadata": {},
     "output_type": "execute_result"
    },
    {
     "data": {
      "image/png": "[encoded data removed]",
      "text/plain": [
       "<matplotlib.figure.Figure at 0xb6e6e48>"
      ]
     },
     "metadata": {},
     "output_type": "display_data"
    }
   ],
   "source": [
    "# Using seabron to create a linear fit\n",
    "sns.lmplot('RM','Price',data = boston_df)"
   ]
  },
  {
   "cell_type": "markdown",
   "metadata": {},
   "source": [
    "Check out the other built-in dataset of seaborn: tip\n",
    "\n",
    "http://seaborn.pydata.org/generated/seaborn.lmplot.html"
   ]
  },
  {
   "cell_type": "markdown",
   "metadata": {},
   "source": [
    "# Step 4: Do a LS- Simple Linear Regression (Using Numpy), calculate the error."
   ]
  },
  {
   "cell_type": "markdown",
   "metadata": {},
   "source": [
    "**Numpy** has a **built in** **Least Square Method** in its linear algebra library. We'll use this first for our **Univariate regression**, even though we can also try using seaborn: sns.lmplot('RM','Price', data=boston_df)\n",
    "\n",
    "Later, we move on to **scikit learn** for our **Multi variate regression**.\n",
    "\n",
    "We will start by setting up the X and Y arrays for numpy to take in. An important note **for the X array**: **Numpy expects a two-dimensional array**, **the first dimension is the different example values**, and **the second dimension is the attribute number**. In this case we have our value as the mean number of rooms per house, and this is a single attribute so the second dimension of the array is just 1. So **we'll need to create a (506,1) shape array**. There are a few ways to do this, but an **easy way** to do this is by using **numpy's built-in** **vertical stack tool**, vstack."
   ]
  },
  {
   "cell_type": "code",
   "execution_count": 34,
   "metadata": {
    "collapsed": false
   },
   "outputs": [],
   "source": [
    "# Use vstack to make X two-dimensional\n",
    "X = np.vstack(boston_df.RM)\n",
    "# check the shape of X right now: X.shape --> give (506L,1L). This difference\n",
    "# is what numpy needs: how many values you have: 506, and how many attributes\n",
    "# there was: 1 (i.e., the ave number of rooms).\n",
    "# now, X is already a numpy array\n",
    "# Note that the difference between simply doing X=np.array(boston_df.RM)\n",
    "# and X=np.vstack(boston_df.RM) (what we need) is:\n",
    "# np.array(boston_df.RM) returns a numpy array of shape (506,)\n",
    "# np.vstack(boston_df.RM) returns a numpy array of shape (506, 1),\n",
    "# i.e. an array of arrays, i.e. a matrix with only 1 column\n",
    "\n",
    "# Set up Y as the target price of the houses. This is straightforward.\n",
    "Y = boston_df.Price"
   ]
  },
  {
   "cell_type": "markdown",
   "metadata": {},
   "source": [
    "#### Now, need to make X an array of arrays by adding the intercept. The reason is:\n",
    "We know that a line has the equation:\n",
    "$$y=mx+b$$\n",
    "which we can rewrite using matrices:\n",
    "$$y=Ap$$\n",
    "where:\n",
    "$$A = \\begin{bmatrix}x & 1\\end{bmatrix}$$\n",
    "and\n",
    "$$p= \\begin{bmatrix}m \\\\b\\end{bmatrix}$$\n",
    "\n",
    "This is the same as the first equation if you carry out the linear algebra. \n",
    "So we'll **start by creating the A matrix using numpy**. We'll do this by creating **a matrix in the form [X 1]**, so we'll **call every value in our original X using a list comprehension** and then **set up an array in the form [X 1]**"
   ]
  },
  {
   "cell_type": "code",
   "execution_count": 35,
   "metadata": {
    "collapsed": false
   },
   "outputs": [
    {
     "data": {
      "text/plain": [
       "array([[array([ 6.575]), 1],\n",
       "       [array([ 6.421]), 1],\n",
       "       [array([ 7.185]), 1],\n",
       "       ..., \n",
       "       [array([ 6.976]), 1],\n",
       "       [array([ 6.794]), 1],\n",
       "       [array([ 6.03]), 1]], dtype=object)"
      ]
     },
     "execution_count": 35,
     "metadata": {},
     "output_type": "execute_result"
    }
   ],
   "source": [
    "# Create the X array in the form [X 1]\n",
    "X = np.array( [ [value,1] for value in X ] )\n",
    "X\n",
    "#X.shape #(506, 2)\n",
    "#type(X) #numpy.ndarray\n",
    "\n",
    "#note that the inverse function of np.array() is pd.Series()\n",
    "#which converts a numpy array back to a pandas series (i.e. a col of a dataframe)"
   ]
  },
  {
   "cell_type": "markdown",
   "metadata": {},
   "source": [
    "Great! Now we can get the best fit values! Using ** least squares**"
   ]
  },
  {
   "cell_type": "code",
   "execution_count": 32,
   "metadata": {
    "collapsed": false
   },
   "outputs": [],
   "source": [
    "# Now get out m and b values for our best fit line: y=mx + b\n",
    "m, b = np.linalg.lstsq(X, Y)[0]\n",
    "# .linalg:To tell numpy to use LR\n",
    "# .lstsq: To tell numpy the criteria we are using is least square"
   ]
  },
  {
   "cell_type": "markdown",
   "metadata": {},
   "source": [
    "Finally let's plot it all together! Note that we use the original format of the boston information. We only did our matrix transformations to utilize the numpy least square method."
   ]
  },
  {
   "cell_type": "code",
   "execution_count": 33,
   "metadata": {
    "collapsed": false
   },
   "outputs": [
    {
     "data": {
      "text/plain": [
       "[<matplotlib.lines.Line2D at 0xbd1b9b0>]"
      ]
     },
     "execution_count": 33,
     "metadata": {},
     "output_type": "execute_result"
    },
    {
     "data": {
      "image/png": "[encoded data removed]",
      "text/plain": [
       "<matplotlib.figure.Figure at 0xbc53a20>"
      ]
     },
     "metadata": {},
     "output_type": "display_data"
    }
   ],
   "source": [
    "# First the ORIGINAL SCATTER points, Price vs Avg Number of Rooms\n",
    "plt.plot(boston_df.RM,boston_df.Price,'o') #change to 's' if want square bullets\n",
    "\n",
    "# Next the BEST FIT LINE\n",
    "x= boston_df.RM # NOTE THAT WE USE lower case x here, not X\n",
    "# since X's format was modified as (506L,1L)\n",
    "# we just want the origial col of ave number of room here as x\n",
    "plt.plot(x, m*x + b,'r',label='Best Fit Line')\n",
    "# actually, you can also do plt.plot(X, m*X + b,'r',label='Best Fit Line'), \n",
    "#but the the figure appears on different scale."
   ]
  },
  {
   "cell_type": "markdown",
   "metadata": {},
   "source": [
    "#### Again, note that we can do all the above using seaborn built-in method: \n",
    "sns.lmplot('RM','Price', data=boston_df), which actually also provide more info on the plot"
   ]
  },
  {
   "cell_type": "markdown",
   "metadata": {},
   "source": [
    "## Evaluate our model by calculating the (Training) error in our fitted line (sum of all the squared error between the fitted line and data points, divided by the number of data points, and taken by sqrt)\n",
    "\n",
    "(since we are using all 506 data points. We will do the same for MLR with all 506 data points, but then will also check out Cross-Validation by dividing 75%-25% training vs testing)\n",
    "\n",
    "Checking out the documentation [here](http://docs.scipy.org/doc/numpy/reference/generated/numpy.linalg.lstsq.html)"
   ]
  },
  {
   "cell_type": "code",
   "execution_count": 38,
   "metadata": {
    "collapsed": false
   },
   "outputs": [
    {
     "data": {
      "text/plain": [
       "(array([  9.10210898, -34.67062078]),\n",
       " array([ 22061.87919621]),\n",
       " 2,\n",
       " array([ 143.99484122,    2.46656609]))"
      ]
     },
     "execution_count": 38,
     "metadata": {},
     "output_type": "execute_result"
    }
   ],
   "source": [
    "# Get the resulting array\n",
    "result = np.linalg.lstsq(X,Y)\n",
    "#while above, m, b = np.linalg.lstsq(X, Y)[0]\n",
    "result\n",
    "# interpreting this result (read the documentation given in the link above)\n",
    "# array([  9.10210898, -34.67062078]): our coeff estimates, so beta1=9.10 is the slope\n",
    "# beta0 = -34.67 is the intercept, which is not meaningful in this case: when the house has 0 room,\n",
    "# its price cannot be negative!\n",
    "# array([ 22061.87919621]) is the SSE (i.e. sum of squares errors/residual.)\n",
    "# 2 is just the rank of the matrix A=[x 1]\n",
    "# array([ 143.99484122,    2.46656609]) are the singular values of the matrix A = [x 1]"
   ]
  },
  {
   "cell_type": "code",
   "execution_count": 39,
   "metadata": {
    "collapsed": false
   },
   "outputs": [
    {
     "name": "stdout",
     "output_type": "stream",
     "text": [
      "The root mean squared error was 6.60 \n"
     ]
    }
   ],
   "source": [
    "# here, error_total is simply the sum of squares error SSE (sum of square of the residuals)\n",
    "error_total = result[1]\n",
    "\n",
    "# Get the root mean square error\n",
    "rmse = np.sqrt(error_total/len(X) )\n",
    "\n",
    "# Print\n",
    "print(\"The root mean squared error was %.2f \" %rmse)"
   ]
  },
  {
   "cell_type": "markdown",
   "metadata": {},
   "source": [
    "Since **the root mean square error (RMSE) corresponds approximately to the standard deviation** we can now say that **the price of a house won't vary more than 2 times the RMSE 95% of the time**. (Check out [link](http://en.wikipedia.org/wiki/68%E2%80%9395%E2%80%9399.7_rule)).\n",
    "\n",
    "## Thus we can reasonably expect a house price to be within $13,200 of our line fit."
   ]
  },
  {
   "cell_type": "markdown",
   "metadata": {},
   "source": [
    "# Step 5: Using scikit learn to implement a MLR"
   ]
  },
  {
   "cell_type": "markdown",
   "metadata": {},
   "source": [
    "**Note that we need to import the [linear regression library](http://scikit-learn.org/stable/modules/generated/sklearn.linear_model.LinearRegression.html) from the sklearn module.** (which we already did at the beginning of the notebook)\n",
    "\n",
    "The **sklearn.linear_model.LinearRegression** class is **an estimator**. Estimators predict a value based on the observed data. In scikit-learn, <span style=\"color:red\">**all estimators** implement the **fit()** and **predict()** methods.</span> The **.fit()** method is used to learn the parameters of a model, and the **.predict()** method is used to predict the value of a response variable for an explanatory variable using the learned parameters. It is easy to experiment with different models using scikit-learn because all estimators implement the fit and predict methods.\n",
    "\n",
    "Next, we **create** a **LinearRegression object**, afterwards, **type lm. then press tab to see the list of methods availble on this object**.\n",
    "\n",
    "The functions we will be using are:\n",
    "\n",
    "**lreg.fit() which fits a linear model**\n",
    "\n",
    "**lreg.predict() which is used to predict Y using the linear model with estimated coefficients**\n",
    "\n",
    "**lreg.score() which returns the coefficient of determination (R^2). A measure of how well observed outcomes are replicated by the model, learn more about it [here](http://en.wikipedia.org/wiki/Coefficient_of_determination)**\n",
    "\n",
    "A perfect R^2 value is 1. The higher it is from 0, the better fit our model is.\n",
    "\n",
    "SST = SSE + SSR (Total sum of squares = sum of squares errors + sum of squares regression)\n",
    "\n",
    "r^2 = SSR/SST: the percent of the variation in Y that is explained by X using this LR model."
   ]
  },
  {
   "cell_type": "code",
   "execution_count": 41,
   "metadata": {
    "collapsed": false
   },
   "outputs": [],
   "source": [
    "# Create a LinearRegression Object\n",
    "lreg = LinearRegression()\n",
    "#type(lreg) #sklearn.linear_model.base.LinearRegression"
   ]
  },
  {
   "cell_type": "markdown",
   "metadata": {
    "collapsed": false
   },
   "source": [
    "We'll start the multi variable regression analysis by **seperating our boston dataframe into the data columns and the target columns**:\n",
    "\n",
    "#### Note how we do this starting from the dataframe, not just from the built-in scikit object. Thus, this is applicable for other dataset as well."
   ]
  },
  {
   "cell_type": "code",
   "execution_count": 42,
   "metadata": {
    "collapsed": false
   },
   "outputs": [],
   "source": [
    "# Input Columns: just copy of the DF with dropping the output col\n",
    "X_multi = boston_df.drop('Price',1) #use 1 here to indicate we drop col.\n",
    "#pandas.core.frame.DataFrame\n",
    "\n",
    "# Targets\n",
    "Y_target = boston_df.Price # just extract out the output col.\n",
    "#pandas.core.frame.DataFrame\n",
    "\n",
    "# NOTE THAT IN THE ABOVE, WE DIDN'T SET inplace=True (by default, it is False)\n",
    "# SO THESE WILL NOT AFFECT OUR ORIGINAL DF.\n",
    "\n",
    "#to check if we had what we wanted:\n",
    "#X_multi.shape #gives (506, 13), i.e., 506 samples, 13 attributes\n",
    "#Y_target.shape #give (506,), i.e., 505 samples, only 1 target"
   ]
  },
  {
   "cell_type": "markdown",
   "metadata": {},
   "source": [
    "Finally, we're ready to pass the X and Y using the linear regression object."
   ]
  },
  {
   "cell_type": "code",
   "execution_count": 45,
   "metadata": {
    "collapsed": false
   },
   "outputs": [
    {
     "data": {
      "text/plain": [
       "LinearRegression(copy_X=True, fit_intercept=True, n_jobs=1, normalize=False)"
      ]
     },
     "execution_count": 45,
     "metadata": {},
     "output_type": "execute_result"
    }
   ],
   "source": [
    "# Implement Linear Regression\n",
    "lreg.fit(X_multi,Y_target)"
   ]
  },
  {
   "cell_type": "markdown",
   "metadata": {},
   "source": [
    "#### Note that now after .fit(), the object lreg already contained the coeffs estimates from the data."
   ]
  },
  {
   "cell_type": "markdown",
   "metadata": {},
   "source": [
    "This is a note from the link above about LR in scikit-learn:\n",
    "(http://scikit-learn.org/stable/modules/generated/sklearn.linear_model.LinearRegression.html)\n",
    "\n",
    "\n",
    "**Parameters (i.e., inputs)**: \n",
    "* X_multi:  numpy array or sparse matrix of shape [n_samples,n_features] of training data\n",
    "* Y_target: numpy array of shape [n_samples, n_targets] of target value (i.e., also training data)\n",
    "\n",
    "The other **optimal** paras are:\n",
    "* sample_weight (=None by default): numpy array of shape [n_samples]\n",
    "Individual weights for each sample\n",
    "* fit_intercept: If set to false, no intercept will be used in calculations (e.g. data is expected to be already centered).\n",
    "* normalize: If True, the regressors X will be normalized before regression. When the regressors are normalized, note that this makes the hyperparameters learnt more robust and almost independent of the number of samples. The same property is not valid for standardized data. However, if you wish to standardize, please use preprocessing.StandardScaler before calling fit on an estimator with normalize=False.\n",
    "* copy_X: If True, X will be copied; else, it may be overwritten.\n",
    "* n_jobs: The number of jobs to use for the computation. If -1 all CPUs are used. This will only provide speedup for n_targets > 1 and sufficient large problems.\n",
    "\n",
    "** Attributes (i.e., outputs)** are: Since .fit() returns an instance of self, the outputs will have the \"_\" at the end of them:\n",
    "* coef_ : array, shape (n_features, ) or (n_targets, n_features). \n",
    "Estimated coefficients for the linear regression problem. If multiple targets are passed during the fit (y 2D), this is a 2D array of shape (n_targets, n_features), while if only one target is passed, this is a 1D array of length n_features.\n",
    "* residues_ : array, shape (n_targets,) or (1,) or empty. \n",
    "Sum of residuals. Squared Euclidean 2-norm for each target passed during the fit. If the linear regression problem is under-determined (the number of linearly independent rows of the training matrix is less than its number of linearly independent columns), this is an empty array. If the target vector passed during the fit is 1-dimensional, this is a (1,) shape array.\n",
    "* intercept_ : array. \n",
    "Independent term in the linear model.\n"
   ]
  },
  {
   "cell_type": "markdown",
   "metadata": {
    "collapsed": true
   },
   "source": [
    "Let's go ahead check the **intercept** and **number of coefficients**(which should be 13 if you still remember)."
   ]
  },
  {
   "cell_type": "code",
   "execution_count": 46,
   "metadata": {
    "collapsed": false
   },
   "outputs": [
    {
     "name": "stdout",
     "output_type": "stream",
     "text": [
      " The estimated intercept coefficient is 36.49 \n"
     ]
    }
   ],
   "source": [
    "print(' The estimated intercept coefficient is %.2f ' %lreg.intercept_)"
   ]
  },
  {
   "cell_type": "code",
   "execution_count": 47,
   "metadata": {
    "collapsed": false
   },
   "outputs": [
    {
     "name": "stdout",
     "output_type": "stream",
     "text": [
      " The number of coefficients used was 13 \n"
     ]
    }
   ],
   "source": [
    "print(' The number of coefficients used was %d ' % len(lreg.coef_))"
   ]
  },
  {
   "cell_type": "code",
   "execution_count": 49,
   "metadata": {
    "collapsed": false
   },
   "outputs": [
    {
     "data": {
      "text/plain": [
       "array([ -1.07170557e-01,   4.63952195e-02,   2.08602395e-02,\n",
       "         2.68856140e+00,  -1.77957587e+01,   3.80475246e+00,\n",
       "         7.51061703e-04,  -1.47575880e+00,   3.05655038e-01,\n",
       "        -1.23293463e-02,  -9.53463555e-01,   9.39251272e-03,\n",
       "        -5.25466633e-01])"
      ]
     },
     "execution_count": 49,
     "metadata": {},
     "output_type": "execute_result"
    }
   ],
   "source": [
    "lreg.coef_\n",
    "#type(lreg.coef_) #numpy.ndarray"
   ]
  },
  {
   "cell_type": "markdown",
   "metadata": {},
   "source": [
    "Similar to SLR, here we have found **an equation for a line**, **but instead** of **just one coefficient m and an intercept b**, we **now have 13 coefficients**. To get an idea of what this looks like check out the [documentation](http://scikit-learn.org/stable/modules/linear_model.html) for this equation:\n",
    "$$ y(w,x) = w_0 + w_1 x_1 + ... + w_p x_p $$\n",
    "\n",
    "Where $$w = (w_1, ...w_p)$$ as the coefficients and $$ w_0 $$ as the intercept "
   ]
  },
  {
   "cell_type": "markdown",
   "metadata": {},
   "source": [
    "#### One way to visualize the estimated coeffs is to create a NEW DataFrame showing all the 13 Features and all their 13 estimated coefficients obtained from the linear regression."
   ]
  },
  {
   "cell_type": "code",
   "execution_count": 51,
   "metadata": {
    "collapsed": false
   },
   "outputs": [
    {
     "data": {
      "text/html": [
       "<div>\n",
       "<table border=\"1\" class=\"dataframe\">\n",
       "  <thead>\n",
       "    <tr style=\"text-align: right;\">\n",
       "      <th></th>\n",
       "      <th>Features</th>\n",
       "      <th>Coefficient Estimate</th>\n",
       "    </tr>\n",
       "  </thead>\n",
       "  <tbody>\n",
       "    <tr>\n",
       "      <th>0</th>\n",
       "      <td>CRIM</td>\n",
       "      <td>-0.107171</td>\n",
       "    </tr>\n",
       "    <tr>\n",
       "      <th>1</th>\n",
       "      <td>ZN</td>\n",
       "      <td>0.046395</td>\n",
       "    </tr>\n",
       "    <tr>\n",
       "      <th>2</th>\n",
       "      <td>INDUS</td>\n",
       "      <td>0.020860</td>\n",
       "    </tr>\n",
       "    <tr>\n",
       "      <th>3</th>\n",
       "      <td>CHAS</td>\n",
       "      <td>2.688561</td>\n",
       "    </tr>\n",
       "    <tr>\n",
       "      <th>4</th>\n",
       "      <td>NOX</td>\n",
       "      <td>-17.795759</td>\n",
       "    </tr>\n",
       "    <tr>\n",
       "      <th>5</th>\n",
       "      <td>RM</td>\n",
       "      <td>3.804752</td>\n",
       "    </tr>\n",
       "    <tr>\n",
       "      <th>6</th>\n",
       "      <td>AGE</td>\n",
       "      <td>0.000751</td>\n",
       "    </tr>\n",
       "    <tr>\n",
       "      <th>7</th>\n",
       "      <td>DIS</td>\n",
       "      <td>-1.475759</td>\n",
       "    </tr>\n",
       "    <tr>\n",
       "      <th>8</th>\n",
       "      <td>RAD</td>\n",
       "      <td>0.305655</td>\n",
       "    </tr>\n",
       "    <tr>\n",
       "      <th>9</th>\n",
       "      <td>TAX</td>\n",
       "      <td>-0.012329</td>\n",
       "    </tr>\n",
       "    <tr>\n",
       "      <th>10</th>\n",
       "      <td>PTRATIO</td>\n",
       "      <td>-0.953464</td>\n",
       "    </tr>\n",
       "    <tr>\n",
       "      <th>11</th>\n",
       "      <td>B</td>\n",
       "      <td>0.009393</td>\n",
       "    </tr>\n",
       "    <tr>\n",
       "      <th>12</th>\n",
       "      <td>LSTAT</td>\n",
       "      <td>-0.525467</td>\n",
       "    </tr>\n",
       "    <tr>\n",
       "      <th>13</th>\n",
       "      <td>Price</td>\n",
       "      <td>NaN</td>\n",
       "    </tr>\n",
       "  </tbody>\n",
       "</table>\n",
       "</div>"
      ],
      "text/plain": [
       "   Features  Coefficient Estimate\n",
       "0      CRIM             -0.107171\n",
       "1        ZN              0.046395\n",
       "2     INDUS              0.020860\n",
       "3      CHAS              2.688561\n",
       "4       NOX            -17.795759\n",
       "5        RM              3.804752\n",
       "6       AGE              0.000751\n",
       "7       DIS             -1.475759\n",
       "8       RAD              0.305655\n",
       "9       TAX             -0.012329\n",
       "10  PTRATIO             -0.953464\n",
       "11        B              0.009393\n",
       "12    LSTAT             -0.525467\n",
       "13    Price                   NaN"
      ]
     },
     "execution_count": 51,
     "metadata": {},
     "output_type": "execute_result"
    }
   ],
   "source": [
    "# Create a column of features names from the original boston dataframe\n",
    "# I mean just grab the list of col names from boston_df and make these the\n",
    "# the data value of a new dataframe (where no name exists yet for col, and \n",
    "# where then index names are still by default from 0 to 13)\n",
    "coeff_df = DataFrame(boston_df.columns)\n",
    "# now, we name the col of that newly created DF\n",
    "coeff_df.columns = ['Features'] \n",
    "\n",
    "# Set a new column lining up the coefficients from the linear regression\n",
    "# by converting a numpy array to a pandas Series, i.e. which can be assigned\n",
    "# directly as a new column of an existing dataframe. Here, the entries of\n",
    "# this col will be filled top down using values in the numpy array.\n",
    "# The remaining entries in the column with no corresponding values in the array\n",
    "# will be filled with \"NaN\".\n",
    "coeff_df[\"Coefficient Estimate\"] = pd.Series(lreg.coef_)\n",
    "\n",
    "# Show\n",
    "coeff_df"
   ]
  },
  {
   "cell_type": "markdown",
   "metadata": {},
   "source": [
    "Just like we initially plotted out, it seems **the highest correlation (3.804752) between a feature and a house price was the number of rooms**. **Thus, it looks like the ave number of rooms is the most important factor that affect the price of a house.**\n",
    "\n",
    "#### Now let's move on to Predicting prices! Obviously to do this, we need to divide 506 data points into the training and testing subsets. Data points in the training set are excluded from the validation set. The correct way to pick out samples from your dataset to be part either the training or validation (also called test) set is ** *randomly* **."
   ]
  },
  {
   "cell_type": "markdown",
   "metadata": {},
   "source": [
    "# Step 6: Using Training and Validation "
   ]
  },
  {
   "cell_type": "markdown",
   "metadata": {},
   "source": [
    "**scikit learn has a built in function** specifically for this called **<span style=\"color:red\">train_test_split</span>**. (in full: <span style=\"color:red\">sklearn.cross_validation.train_test_split</span>) (**won't work in sklearn 2.0**). **Instead, use sklearn.model_selection.train_test_split:**\n",
    "http://scikit-learn.org/stable/modules/generated/sklearn.model_selection.train_test_split.html#sklearn.model_selection.train_test_split\n",
    "\n",
    "\n",
    "\n",
    "The **parameters** passed are your **X and Y**, then **optionally test_size** parameter, representing the **proportion** of the dataset to include in the **test** split. As well a train_size parameter (how much of the data you want to be in the training set). You can learn more about these parameters [here](http://scikit-learn.org/stable/modules/generated/sklearn.cross_validation.train_test_split.html)\n",
    "\n",
    "**By default, training set takes 75% and testing set takes 25%.** (scikit thinks this is the best ratio)"
   ]
  },
  {
   "cell_type": "code",
   "execution_count": 54,
   "metadata": {
    "collapsed": true
   },
   "outputs": [],
   "source": [
    "import sklearn\n",
    "from sklearn.linear_model import LinearRegression"
   ]
  },
  {
   "cell_type": "code",
   "execution_count": 56,
   "metadata": {
    "collapsed": false
   },
   "outputs": [],
   "source": [
    "# BE CAREFUL WITH THE ORDER\n",
    "#X_train, X_test, Y_train, Y_test = sklearn.cross_validation.train_test_split(X,boston_df.Price) \n",
    "#instead, use:\n",
    "X_train, X_test, Y_train, Y_test = sklearn.model_selection.train_test_split(\n",
    "    X,boston_df.Price)\n",
    "# X is just the array we made earlier for uni-variate LR\n",
    "# and boston_df.Price is just our output, i.e. Y\n",
    "#Allowed inputs are lists, numpy arrays, scipy-sparse matrices or pandas dataframes.\n",
    "#Thus, that's why it works in this case even though X is a numpy array while Y is a\n",
    "#pandas.core.frame.DataFrame"
   ]
  },
  {
   "cell_type": "markdown",
   "metadata": {},
   "source": [
    "Let's go ahead and see what the output of the train_test_split was:"
   ]
  },
  {
   "cell_type": "code",
   "execution_count": 57,
   "metadata": {
    "collapsed": false
   },
   "outputs": [
    {
     "name": "stdout",
     "output_type": "stream",
     "text": [
      "(379, 2) (127, 2) (379,) (127,)\n"
     ]
    }
   ],
   "source": [
    "# Print shapes of the training and testing data sets\n",
    "print(X_train.shape, X_test.shape, Y_train.shape, Y_test.shape)"
   ]
  },
  {
   "cell_type": "markdown",
   "metadata": {},
   "source": [
    "## Predicting Prices"
   ]
  },
  {
   "cell_type": "code",
   "execution_count": 58,
   "metadata": {
    "collapsed": false
   },
   "outputs": [
    {
     "data": {
      "text/plain": [
       "LinearRegression(copy_X=True, fit_intercept=True, n_jobs=1, normalize=False)"
      ]
     },
     "execution_count": 58,
     "metadata": {},
     "output_type": "execute_result"
    }
   ],
   "source": [
    "# Create our regression object (again, redo this just like in step 6 when\n",
    "# we use MLR with all 506 data points as training). Everytime before doing\n",
    "# LR, you would need to reset this (i.e. define a new LR model)\n",
    "lreg = LinearRegression()\n",
    "\n",
    "# And then train that model, except only on the training sets this time\n",
    "lreg.fit(X_train,Y_train)"
   ]
  },
  {
   "cell_type": "markdown",
   "metadata": {},
   "source": [
    "Now run a prediction on both the X training set and the testing set.\n",
    "\n",
    "#### Note that this prediction is done on both sets, but the estimated coeffs that it use to do this prediction is obtained from the training set only. Thus, you would expect that the SSE (or mean of itself) is lower on the training set than on the test set."
   ]
  },
  {
   "cell_type": "code",
   "execution_count": 59,
   "metadata": {
    "collapsed": true
   },
   "outputs": [],
   "source": [
    "# Predictions on training and testing sets\n",
    "pred_train = lreg.predict(X_train) #gives an estimate of Y_train, to compare with Y_train\n",
    "pred_test = lreg.predict(X_test)#gives an estimate of Y_test, to compare with Y_test\n",
    "# make predictions for both sets, and then compare how well they match\n",
    "#type(X_train) #numpy.ndarray\n",
    "#type(pred_train) #numpy.ndarray"
   ]
  },
  {
   "cell_type": "markdown",
   "metadata": {},
   "source": [
    "Now we will get **the mean square error** (instead of the RMSE we did for uni-variate case). It's up to you to choose which type of error to use. Simply just take the square root of this mean of SSE and you will get RMSE."
   ]
  },
  {
   "cell_type": "code",
   "execution_count": 60,
   "metadata": {
    "collapsed": false
   },
   "outputs": [
    {
     "name": "stdout",
     "output_type": "stream",
     "text": [
      "Fit a model X_train, and calculate MSE with Y_train: 43.81\n",
      "Fit a model X_train, and calculate MSE with X_test and Y_test: 44.18\n"
     ]
    }
   ],
   "source": [
    "print(\"Fit a model X_train, and calculate MSE with Y_train: %.2f\"  \n",
    "      % np.mean((Y_train - pred_train) ** 2))\n",
    "# note that (Y_train - pred_train) is just the length of that vertical line in D\n",
    "    \n",
    "print(\"Fit a model X_train, and calculate MSE with X_test and Y_test: %.2f\"  \n",
    "      %np.mean((Y_test - pred_test) ** 2))"
   ]
  },
  {
   "cell_type": "markdown",
   "metadata": {},
   "source": [
    "### The above results should change from run to run, since the spliting is random. But in general, you should expect the MSE for traing set will be lower than that of the testing set."
   ]
  },
  {
   "cell_type": "markdown",
   "metadata": {},
   "source": [
    "It looks like our mean square error between our training and testing was pretty close. But how do we actually visualize this? TO **visualize how good our analysis was**, since the above 2 error values may be good for some models/fields of interest, but may be bad for some other."
   ]
  },
  {
   "cell_type": "markdown",
   "metadata": {},
   "source": [
    "# Step 9 : Residual Plots"
   ]
  },
  {
   "cell_type": "markdown",
   "metadata": {},
   "source": [
    "In regression analysis, the difference between the observed value of the dependent variable (y) and the predicted value (ŷ) is called the residual (e). **Each data point has one residual**, so that:\n",
    "\n",
    "$$Residual = Observed\\:value - Predicted\\:value $$"
   ]
  },
  {
   "cell_type": "markdown",
   "metadata": {},
   "source": [
    "A residual plot is a graph that shows **the residuals on the vertical axis** and **the independent variable on the horizontal axis**. \n",
    "\n",
    "### If the points in a residual plot are randomly dispersed around the horizontal axis, a linear regression model is appropriate for the data; otherwise, there is certain aspect of the data that your linear model did not capture. Maybe try a non-linear model instead.\n",
    "\n",
    "Residual plots are **a good way to visualize the errors in your data**.  **If you have done a good job then your data should be randomly scattered around line zero**. \n",
    "\n",
    "#### If there is some strucutre or pattern, that means your model is not capturing some thing. There could be an interaction between 2 variables that you're not considering, or may be you are measuring time dependent data. If this is the case go back to your model and check your data set closely.\n",
    "\n",
    "If you observe explanatory or predictive power in the error part $\\epsilon$, you know that your predictors are missing some of the predictive information. Residual plots help you check this!\n",
    "\n",
    "**Statistical caveat**: <span style=\"color:red\">Regression residuals are actually estimates of the true error $\\epsilon$, just like the regression coefficients are estimates of the true population coefficients.</span> Reason: we shouldn’t be able to predict the error for any given observation, since one of the assumptions of SLR/MLR is that the erros are independently normally distributed. And, for a series of observations, you can determine whether the residuals are consistent with random error. If the residuals suggest that your model is systematically incorrect, you have an opportunity to improve the model.\n",
    "\n",
    "So, what does random error look like for OLS regression? The residuals should not be either systematically high or low. So, the residuals should be centered on zero throughout the range of fitted values. In other words, the model is correct on average for all fitted values. Further, in the OLS context, random errors are assumed to produce residuals that are normally distributed. Therefore, the residuals should fall in a symmetrical pattern and have a constant spread throughout the range.\n",
    "\n",
    "The non-random pattern in the residuals indicates that the deterministic portion (predictor variables) of the model is not capturing some explanatory information that is “leaking” into the residuals. The graph could represent several ways in which the model is not explaining all that is possible. Possibilities include:\n",
    "\n",
    "    * A missing variable\n",
    "    * A missing higher-order term of a variable in the model to explain the curvature\n",
    "    * A missing interaction between terms already in the model\n",
    "\n",
    "Identifying and fixing the problem so that the predictors now explain the information that they missed before should produce a good-looking set of residuals!\n",
    "\n",
    "In addition to the above, here are two more specific ways that predictive information can sneak into the residuals:\n",
    "\n",
    "    * The residuals should not be correlated with another variable. If you can predict the residuals with another variable, that variable should be included in the model. Thus, you can try plotting the residuals by other variables to look for this problem.\n",
    " \n",
    "    * Adjacent residuals should not be correlated with each other (autocorrelation). If you can use one residual to predict the next residual, there is some predictive information present that is not captured by the predictors. Typically, this situation involves time-ordered observations (in time-series analysis) . For example, if a residual is more likely to be followed by another residual that has the same sign, adjacent residuals are positively correlated. You can include a variable that captures the relevant time-related information, or use a time series analysis. In Minitab’s regression, you can perform the Durbin-Watson test to test for autocorrelation.\n",
    "\n",
    "**<span style=\"color:red\">Are You Seeing Non-Random Patterns in Your Residuals?</span>**\n",
    "\n",
    "I hope this gives you a different perspective and a more complete rationale for something that you are already doing, and that it’s clear why you need randomness in your residuals. You must explain everything that is possible with your predictors so that only random error is leftover. If you see non-random patterns in your residuals, it means that your predictors are missing something.\n",
    "\n",
    "So now let's go ahead and create the residual plot. **For more info on the residual plots check out this great [link](http://blog.minitab.com/blog/adventures-in-statistics/why-you-need-to-check-your-residual-plots-for-regression-analysis).**"
   ]
  },
  {
   "cell_type": "code",
   "execution_count": 61,
   "metadata": {
    "collapsed": false
   },
   "outputs": [
    {
     "data": {
      "text/plain": [
       "<matplotlib.text.Text at 0xcd17550>"
      ]
     },
     "execution_count": 61,
     "metadata": {},
     "output_type": "execute_result"
    },
    {
     "data": {
      "image/png": "[encoded data removed]",
      "text/plain": [
       "<matplotlib.figure.Figure at 0xcce0278>"
      ]
     },
     "metadata": {},
     "output_type": "display_data"
    }
   ],
   "source": [
    "# Scatter plot the training data\n",
    "train = plt.scatter(pred_train,(pred_train-Y_train),c='b',alpha=0.5)\n",
    "# c is color, alpha is transparency.\n",
    "\n",
    "# Scatter plot the testing data\n",
    "test = plt.scatter(pred_test,(pred_test-Y_test),c='r',alpha=0.5)\n",
    "\n",
    "# Plot a horizontal axis line at 0\n",
    "plt.hlines(y=0,xmin=-10,xmax=50)\n",
    "\n",
    "#Labels\n",
    "plt.legend((train,test),('Training','Test'),loc='lower left')\n",
    "plt.title('Residual Plots')"
   ]
  },
  {
   "cell_type": "markdown",
   "metadata": {},
   "source": [
    "**Great! Looks like there aren't any major patterns to be concerned about**, it may be interesting to check out the line occuring towards the bottom right, but overall the majority of the residuals seem to be randomly allocated above and below the horizontal.\n",
    "\n",
    "<span style=\"color:red\">** TO check for these line occuring towards the bottom right, try removing a few features and redo LR to see if that goes away**.</span>"
   ]
  },
  {
   "cell_type": "markdown",
   "metadata": {},
   "source": [
    "More information as:  http://scikit-learn.org/stable/modules/linear_model.html#linear-model"
   ]
  },
  {
   "cell_type": "markdown",
   "metadata": {
    "collapsed": true
   },
   "source": [
    "# Step 8: Use Decision Tree (lone tree) and Random Forest to predict and compare that to LR"
   ]
  },
  {
   "cell_type": "code",
   "execution_count": 63,
   "metadata": {
    "collapsed": true
   },
   "outputs": [],
   "source": [
    "#Note how we previously name the columns as following:\n",
    "#df = pd.read_csv('./housing.data', header=None, sep=r\"\\s*\", engine='python')\n",
    "#df.columns = [\n",
    "#        'crim', # numerical\n",
    "#        'zn', # numerical\n",
    "#        'nonretail', # numerical\n",
    "#        'river', # binary\n",
    "#        'nox', # numerical\n",
    "#        'rooms', # numerical\n",
    "#        'age', # numerical\n",
    "#        'dis', # numerical\n",
    "#        'rad', # numerical\n",
    "#        'tax', # numerical\n",
    "#        'ptratio', # numerical\n",
    "#        'b', # numerical\n",
    "#        'lstat', # numerical\n",
    "#        'medv', # numerical -- this is the target\n",
    "#]\n",
    "\n",
    "#BUT NOW, WE SHOULD SEPARATE THE FEATURE COLUMN \"river' from the rest since\n",
    "#it is categorical (0/1), which we don't need any transformation on.\n",
    "#FOR THE REMANING 12 COLS OF FEATURES, WE WOULD WANT TO NORMALIZE THOSE SO THAT\n",
    "#EACH COL HAS MEAN=0 AND VAR=1.\n",
    "\n",
    "NO_TRANSFORM = ['river']\n",
    "\n",
    "NUMERICAL_COLS = [\n",
    "  'crim', # numerical\n",
    "  'zn', # numerical\n",
    "  'nonretail', # numerical\n",
    "  'nox', # numerical\n",
    "  'rooms', # numerical\n",
    "  'age', # numerical\n",
    "  'dis', # numerical\n",
    "  'rad', # numerical\n",
    "  'tax', # numerical\n",
    "  'ptratio', # numerical\n",
    "  'b', # numerical\n",
    "  'lstat', # numerical\n",
    "]\n",
    "#from sklearn.preprocessing import LabelEncoder, StandardScaler\n",
    "#from sklearn.tree import DecisionTreeRegressor\n",
    "#from sklearn.ensemble import RandomForestRegressor\n",
    "#from sklearn.model_selection import cross_val_score"
   ]
  },
  {
   "cell_type": "markdown",
   "metadata": {},
   "source": [
    "### Next, we create a 'DataTransformer' class to transform data from dataframe to numerical matrix\n",
    " (Note the Pythonic convention to name a class, without underscore) "
   ]
  },
  {
   "cell_type": "code",
   "execution_count": 66,
   "metadata": {
    "collapsed": false
   },
   "outputs": [
    {
     "data": {
      "text/html": [
       "<div>\n",
       "<table border=\"1\" class=\"dataframe\">\n",
       "  <thead>\n",
       "    <tr style=\"text-align: right;\">\n",
       "      <th></th>\n",
       "      <th>crim</th>\n",
       "      <th>zn</th>\n",
       "      <th>nonretail</th>\n",
       "      <th>river</th>\n",
       "      <th>nox</th>\n",
       "      <th>rooms</th>\n",
       "      <th>age</th>\n",
       "      <th>dis</th>\n",
       "      <th>rad</th>\n",
       "      <th>tax</th>\n",
       "      <th>ptratio</th>\n",
       "      <th>b</th>\n",
       "      <th>lstat</th>\n",
       "      <th>medv</th>\n",
       "    </tr>\n",
       "  </thead>\n",
       "  <tbody>\n",
       "    <tr>\n",
       "      <th>0</th>\n",
       "      <td>0.00632</td>\n",
       "      <td>18.0</td>\n",
       "      <td>2.31</td>\n",
       "      <td>0</td>\n",
       "      <td>0.538</td>\n",
       "      <td>6.575</td>\n",
       "      <td>65.2</td>\n",
       "      <td>4.0900</td>\n",
       "      <td>1</td>\n",
       "      <td>296.0</td>\n",
       "      <td>15.3</td>\n",
       "      <td>396.90</td>\n",
       "      <td>4.98</td>\n",
       "      <td>24.0</td>\n",
       "    </tr>\n",
       "    <tr>\n",
       "      <th>1</th>\n",
       "      <td>0.02731</td>\n",
       "      <td>0.0</td>\n",
       "      <td>7.07</td>\n",
       "      <td>0</td>\n",
       "      <td>0.469</td>\n",
       "      <td>6.421</td>\n",
       "      <td>78.9</td>\n",
       "      <td>4.9671</td>\n",
       "      <td>2</td>\n",
       "      <td>242.0</td>\n",
       "      <td>17.8</td>\n",
       "      <td>396.90</td>\n",
       "      <td>9.14</td>\n",
       "      <td>21.6</td>\n",
       "    </tr>\n",
       "    <tr>\n",
       "      <th>2</th>\n",
       "      <td>0.02729</td>\n",
       "      <td>0.0</td>\n",
       "      <td>7.07</td>\n",
       "      <td>0</td>\n",
       "      <td>0.469</td>\n",
       "      <td>7.185</td>\n",
       "      <td>61.1</td>\n",
       "      <td>4.9671</td>\n",
       "      <td>2</td>\n",
       "      <td>242.0</td>\n",
       "      <td>17.8</td>\n",
       "      <td>392.83</td>\n",
       "      <td>4.03</td>\n",
       "      <td>34.7</td>\n",
       "    </tr>\n",
       "    <tr>\n",
       "      <th>3</th>\n",
       "      <td>0.03237</td>\n",
       "      <td>0.0</td>\n",
       "      <td>2.18</td>\n",
       "      <td>0</td>\n",
       "      <td>0.458</td>\n",
       "      <td>6.998</td>\n",
       "      <td>45.8</td>\n",
       "      <td>6.0622</td>\n",
       "      <td>3</td>\n",
       "      <td>222.0</td>\n",
       "      <td>18.7</td>\n",
       "      <td>394.63</td>\n",
       "      <td>2.94</td>\n",
       "      <td>33.4</td>\n",
       "    </tr>\n",
       "    <tr>\n",
       "      <th>4</th>\n",
       "      <td>0.06905</td>\n",
       "      <td>0.0</td>\n",
       "      <td>2.18</td>\n",
       "      <td>0</td>\n",
       "      <td>0.458</td>\n",
       "      <td>7.147</td>\n",
       "      <td>54.2</td>\n",
       "      <td>6.0622</td>\n",
       "      <td>3</td>\n",
       "      <td>222.0</td>\n",
       "      <td>18.7</td>\n",
       "      <td>396.90</td>\n",
       "      <td>5.33</td>\n",
       "      <td>36.2</td>\n",
       "    </tr>\n",
       "  </tbody>\n",
       "</table>\n",
       "</div>"
      ],
      "text/plain": [
       "      crim    zn  nonretail  river    nox  rooms   age     dis  rad    tax  \\\n",
       "0  0.00632  18.0       2.31      0  0.538  6.575  65.2  4.0900    1  296.0   \n",
       "1  0.02731   0.0       7.07      0  0.469  6.421  78.9  4.9671    2  242.0   \n",
       "2  0.02729   0.0       7.07      0  0.469  7.185  61.1  4.9671    2  242.0   \n",
       "3  0.03237   0.0       2.18      0  0.458  6.998  45.8  6.0622    3  222.0   \n",
       "4  0.06905   0.0       2.18      0  0.458  7.147  54.2  6.0622    3  222.0   \n",
       "\n",
       "   ptratio       b  lstat  medv  \n",
       "0     15.3  396.90   4.98  24.0  \n",
       "1     17.8  396.90   9.14  21.6  \n",
       "2     17.8  392.83   4.03  34.7  \n",
       "3     18.7  394.63   2.94  33.4  \n",
       "4     18.7  396.90   5.33  36.2  "
      ]
     },
     "execution_count": 66,
     "metadata": {},
     "output_type": "execute_result"
    }
   ],
   "source": [
    "df.head()"
   ]
  },
  {
   "cell_type": "code",
   "execution_count": 67,
   "metadata": {
    "collapsed": false
   },
   "outputs": [
    {
     "data": {
      "text/plain": [
       "0    4.0900\n",
       "1    4.9671\n",
       "2    4.9671\n",
       "3    6.0622\n",
       "4    6.0622\n",
       "Name: dis, dtype: float64"
      ]
     },
     "execution_count": 67,
     "metadata": {},
     "output_type": "execute_result"
    }
   ],
   "source": [
    "df.dis.head()"
   ]
  },
  {
   "cell_type": "code",
   "execution_count": 68,
   "metadata": {
    "collapsed": false
   },
   "outputs": [
    {
     "data": {
      "text/plain": [
       "array([  4.09  ,   4.9671,   4.9671,   6.0622,   6.0622,   6.0622,\n",
       "         5.5605,   5.9505,   6.0821,   6.5921,   6.3467,   6.2267,\n",
       "         5.4509,   4.7075,   4.4619,   4.4986,   4.4986,   4.2579,\n",
       "         3.7965,   3.7965,   3.7979,   4.0123,   3.9769,   4.0952,\n",
       "         4.3996,   4.4546,   4.682 ,   4.4534,   4.4547,   4.239 ,\n",
       "         4.233 ,   4.175 ,   3.99  ,   3.7872,   3.7598,   3.3603,\n",
       "         3.3779,   3.9342,   3.8473,   5.4011,   5.4011,   5.7209,\n",
       "         5.7209,   5.7209,   5.7209,   5.1004,   5.1004,   5.6894,\n",
       "         5.87  ,   6.0877,   6.8147,   6.8147,   6.8147,   6.8147,\n",
       "         7.3197,   8.6966,   9.1876,   8.3248,   7.8148,   6.932 ,\n",
       "         7.2254,   6.8185,   7.2255,   7.9809,   9.2229,   6.6115,\n",
       "         6.6115,   6.498 ,   6.498 ,   6.498 ,   5.2873,   5.2873,\n",
       "         5.2873,   5.2873,   4.2515,   4.5026,   4.0522,   4.0905,\n",
       "         5.0141,   4.5026,   5.4007,   5.4007,   5.4007,   5.4007,\n",
       "         4.7794,   4.4377,   4.4272,   3.7476,   3.4217,   3.4145,\n",
       "         3.0923,   3.0921,   3.6659,   3.6659,   3.615 ,   3.4952,\n",
       "         3.4952,   3.4952,   3.4952,   3.4952,   2.7778,   2.8561,\n",
       "         2.7147,   2.7147,   2.421 ,   2.1069,   2.211 ,   2.1224,\n",
       "         2.4329,   2.5451,   2.7778,   2.6775,   2.3534,   2.548 ,\n",
       "         2.2565,   2.4631,   2.7301,   2.7474,   2.4775,   2.7592,\n",
       "         2.2577,   2.1974,   2.0869,   1.9444,   2.0063,   1.9929,\n",
       "         1.7572,   1.7883,   1.8125,   1.9799,   2.1185,   2.271 ,\n",
       "         2.3274,   2.4699,   2.346 ,   2.1107,   1.9669,   1.8498,\n",
       "         1.6686,   1.6687,   1.6119,   1.4394,   1.3216,   1.4118,\n",
       "         1.3459,   1.4191,   1.5166,   1.4608,   1.5296,   1.5257,\n",
       "         1.618 ,   1.5916,   1.6102,   1.6232,   1.7494,   1.7455,\n",
       "         1.7364,   1.8773,   1.7573,   1.7659,   1.7984,   1.9709,\n",
       "         2.0407,   2.162 ,   2.422 ,   2.2834,   2.0459,   2.4259,\n",
       "         2.1   ,   2.2625,   2.4259,   2.3887,   2.5961,   2.6463,\n",
       "         2.7019,   3.1323,   3.5549,   3.3175,   2.9153,   2.829 ,\n",
       "         2.741 ,   2.5979,   2.7006,   2.847 ,   2.9879,   3.2797,\n",
       "         3.1992,   3.7886,   4.5667,   4.5667,   6.4798,   6.4798,\n",
       "         6.4798,   6.2196,   6.2196,   5.6484,   7.309 ,   7.309 ,\n",
       "         7.309 ,   7.6534,   7.6534,   6.27  ,   6.27  ,   5.118 ,\n",
       "         5.118 ,   3.9454,   4.3549,   4.3549,   4.2392,   3.875 ,\n",
       "         3.8771,   3.665 ,   3.6526,   3.9454,   3.5875,   3.9454,\n",
       "         3.1121,   3.4211,   2.8893,   3.3633,   2.8617,   3.048 ,\n",
       "         3.2721,   3.2721,   2.8944,   2.8944,   3.2157,   3.2157,\n",
       "         3.3751,   3.3751,   3.6715,   3.6715,   3.8384,   3.6519,\n",
       "         3.6519,   3.6519,   4.148 ,   4.148 ,   6.1899,   6.1899,\n",
       "         6.3361,   6.3361,   7.0355,   7.0355,   7.9549,   7.9549,\n",
       "         8.0555,   8.0555,   7.8265,   7.8265,   7.3967,   7.3967,\n",
       "         8.9067,   8.9067,   9.2203,   9.2203,   6.3361,   1.801 ,\n",
       "         1.8946,   2.0107,   2.1121,   2.1398,   2.2885,   2.0788,\n",
       "         1.9301,   1.9865,   2.1329,   2.4216,   2.872 ,   3.9175,\n",
       "         4.429 ,   4.429 ,   3.9175,   4.3665,   4.0776,   4.2673,\n",
       "         4.7872,   4.8628,   4.1403,   4.1007,   4.6947,   5.2447,\n",
       "         5.2119,   5.885 ,   7.3073,   7.3073,   9.0892,   7.3172,\n",
       "         7.3172,   7.3172,   5.1167,   5.1167,   5.1167,   5.5027,\n",
       "         5.5027,   5.9604,   5.9604,   6.32  ,   7.8278,   7.8278,\n",
       "         7.8278,   5.4917,   5.4917,   5.4917,   4.022 ,   3.37  ,\n",
       "         3.0992,   3.1827,   3.3175,   3.1025,   2.5194,   2.6403,\n",
       "         2.834 ,   3.2628,   3.6023,   3.945 ,   3.9986,   4.0317,\n",
       "         3.5325,   4.0019,   4.5404,   4.5404,   4.7211,   4.7211,\n",
       "         4.7211,   5.4159,   5.4159,   5.4159,   5.2146,   5.2146,\n",
       "         5.8736,   6.6407,   6.6407,   6.4584,   6.4584,   5.9853,\n",
       "         5.2311,   5.615 ,   4.8122,   4.8122,   4.8122,   7.0379,\n",
       "         6.2669,   5.7321,   6.4654,   8.0136,   8.0136,   8.5353,\n",
       "         8.344 ,   8.7921,   8.7921,  10.7103,  10.7103,  12.1265,\n",
       "        10.5857,  10.5857,   2.1222,   2.5052,   2.7227,   2.5091,\n",
       "         2.5182,   2.2955,   2.1036,   1.9047,   1.9047,   1.6132,\n",
       "         1.7523,   1.5106,   1.3325,   1.3567,   1.2024,   1.1691,\n",
       "         1.1296,   1.1742,   1.137 ,   1.3163,   1.3449,   1.358 ,\n",
       "         1.3861,   1.3861,   1.4165,   1.5192,   1.5804,   1.5331,\n",
       "         1.4395,   1.4261,   1.4672,   1.5184,   1.5895,   1.7281,\n",
       "         1.9265,   2.1678,   1.77  ,   1.7912,   1.7821,   1.7257,\n",
       "         1.6768,   1.6334,   1.4896,   1.5004,   1.5888,   1.5741,\n",
       "         1.639 ,   1.7028,   1.6074,   1.4254,   1.1781,   1.2852,\n",
       "         1.4547,   1.4655,   1.413 ,   1.5275,   1.5539,   1.5894,\n",
       "         1.6582,   1.8347,   1.8195,   1.6475,   1.8026,   1.794 ,\n",
       "         1.8589,   1.8746,   1.9512,   2.0218,   2.0635,   1.9096,\n",
       "         1.9976,   1.8629,   1.9356,   1.9682,   2.0527,   2.0882,\n",
       "         2.2004,   2.3158,   2.2222,   2.1247,   2.0026,   1.9142,\n",
       "         1.8206,   1.8172,   1.8662,   2.0651,   2.0048,   1.9784,\n",
       "         1.8956,   1.9879,   2.072 ,   2.198 ,   2.2616,   2.185 ,\n",
       "         2.3236,   2.3552,   2.3682,   2.4527,   2.4961,   2.4358,\n",
       "         2.5806,   2.7792,   2.7831,   2.7175,   2.5975,   2.5671,\n",
       "         2.7344,   2.8016,   2.9634,   3.0665,   2.8715,   2.5403,\n",
       "         2.9084,   2.8237,   3.0334,   3.0993,   2.8965,   2.5329,\n",
       "         2.4298,   2.206 ,   2.3053,   2.1007,   2.1705,   1.9512,\n",
       "         3.4242,   3.3317,   3.4106,   4.0983,   3.724 ,   3.9917,\n",
       "         3.5459,   3.1523,   1.8209,   1.7554,   1.8226,   1.8681,\n",
       "         2.1099,   2.3817,   2.3817,   2.7986,   2.7986,   2.8927,\n",
       "         2.4091,   2.3999,   2.4982,   2.4786,   2.2875,   2.1675,\n",
       "         2.3889,   2.505 ])"
      ]
     },
     "execution_count": 68,
     "metadata": {},
     "output_type": "execute_result"
    }
   ],
   "source": [
    "df.dis.as_matrix()"
   ]
  },
  {
   "cell_type": "code",
   "execution_count": 65,
   "metadata": {
    "collapsed": false
   },
   "outputs": [
    {
     "name": "stderr",
     "output_type": "stream",
     "text": [
      "C:\\Users\\Tho7\\Anaconda3\\lib\\site-packages\\pandas\\io\\parsers.py:1728: FutureWarning: split() requires a non-empty pattern match.\n",
      "  yield pat.split(line.strip())\n",
      "C:\\Users\\Tho7\\Anaconda3\\lib\\site-packages\\pandas\\io\\parsers.py:1730: FutureWarning: split() requires a non-empty pattern match.\n",
      "  yield pat.split(line.strip())\n",
      "C:\\Users\\Tho7\\Anaconda3\\lib\\site-packages\\sklearn\\utils\\validation.py:429: DataConversionWarning: Data with input dtype int64 was converted to float64 by StandardScaler.\n",
      "  warnings.warn(msg, _DataConversionWarning)\n"
     ]
    },
    {
     "name": "stdout",
     "output_type": "stream",
     "text": [
      "ymin: 2.0 ymax: 4.0\n"
     ]
    },
    {
     "data": {
      "image/png": "[encoded data removed]",
      "text/plain": [
       "<matplotlib.figure.Figure at 0xce88160>"
      ]
     },
     "metadata": {},
     "output_type": "display_data"
    },
    {
     "data": {
      "image/png": "[encoded data removed]",
      "text/plain": [
       "<matplotlib.figure.Figure at 0xceb34a8>"
      ]
     },
     "metadata": {},
     "output_type": "display_data"
    },
    {
     "name": "stdout",
     "output_type": "stream",
     "text": [
      "CV single tree: 0.600136891735\n",
      "CV baseline: 0.739840279981\n",
      "CV forest: 0.790421239825\n",
      "test score single tree: 0.769744221874\n",
      "test score baseline: 0.773764472574\n",
      "test score forest: 0.874375313988\n"
     ]
    }
   ],
   "source": [
    "#BELOW, WE CREATE A CLASS CALLED DataTransformer TO FIT (NORMALIZED) AND\n",
    "#TRANSFORM (CONVERT FROM DF TO NUMPY MATRIX) THE DATA.\n",
    "\n",
    "#NOTE THAT WE DIVIDE FIT AND TRANSFORM INTO 2 SEPARATE FUNCTIONS, SINCE\n",
    "#FOR TRAINING DATA WE WANT TO DO BOTH OPERATIONS ON THEM, AS FITTING IS\n",
    "#NECESSARY TO PREVENT ONE FEATURE DOMINATING THE OTHER FEATURE.\n",
    "\n",
    "#WHILE FOR TESTING DATA WE ONLY WANT TO TRANSFORM THEM AND KEEP THE ORIGINAL SCALE\n",
    "#i.e. FOR BETTER INTERPRETATION.\n",
    "\n",
    "#this DataTransformer class works like the scikit learn scalar class, which\n",
    "#has the funcs fit, transform, and fit_transform.\n",
    "class DataTransformer:\n",
    "    #the first function, .fit() is to go through each numerical col of the df\n",
    "    #and find mean and variance of those. Then, save it to a dictionary where\n",
    "    #each key=col name, each value is a StandardScaler object which store info\n",
    "    #about the mean and std of that col.\n",
    "    def fit(self, df):\n",
    "        self.scalers = {} #an empty dict to store all means and std of each col of df.\n",
    "        for col in NUMERICAL_COLS:\n",
    "            scaler = StandardScaler()#define it as an object\n",
    "            scaler.fit(df[col].as_matrix().reshape(-1, 1))#.fit() is to compute mean, std\n",
    "            #b4 that, we have converted a df col to a numpy multi-array (i.e. matrix)\n",
    "            #by using .as_matrix(). Moreover, we reshape it to have 1 column only.\n",
    "            #so as to keep the format of a col of the df.\n",
    "            #note that -1 means don't care the first shape (i.e. num of rows), while 1 \n",
    "            #means we want only one col, thus num of rows should be number of data points\n",
    "            #Now, scaler is a StandardScaler object will the info from this col, e.g.,\n",
    "            #you can see these info by calling: scaler.mean_, scaler.scale_, scaler.var_, ect.\n",
    "            \n",
    "            self.scalers[col] = scaler\n",
    "  \n",
    "    #the second function, .transform(), is to transform w/o fitting, \n",
    "    #because when we find the mean and var of a feature, we only want to use\n",
    "    #the train set. This mean and var info is then used for testing too.\n",
    "    #this transform func is to subtract the mean and divide by the var.\n",
    "    def transform(self, df):\n",
    "        N, D = df.shape\n",
    "        X = np.zeros((N, D)) #empty N by D matrix\n",
    "        i = 0\n",
    "        #for col, scaler in self.scalers.iteritems():#for Python 2\n",
    "        for col, scaler in self.scalers.items():#for Python 3\n",
    "            X[:,i] = scaler.transform(df[col].as_matrix().reshape(-1, 1)).flatten()\n",
    "            #the func .transform() simply convert the whole numpy array inside\n",
    "            #to another array by subtracting the mean and then divided by the std.\n",
    "            #flatten to stretch it out to a simple numpy array instead of an array of array\n",
    "            #Thus, now the col X[:,i] is a standardized array already.\n",
    "            i += 1\n",
    "            \n",
    "        for col in NO_TRANSFORM:#no need to transform the categorical 0/1 column.\n",
    "            X[:,i] = df[col]\n",
    "            i += 1\n",
    "        return X # we actually return this data matrix from the data frame\n",
    "    \n",
    "    #to do both of fit and transform function, make it a clear process\n",
    "    #we return a numpy matrix of all the standardized data.\n",
    "    def fit_transform(self, df):\n",
    "        self.fit(df)\n",
    "        return self.transform(df)\n",
    "\n",
    "\n",
    "#NOW, WE ACTUALLY LOAD THE DATA FROM THE FILE, AND THEN\n",
    "#TRANSFORM IT USING THE ABOVE DataTransformer CLASS.\n",
    "  \n",
    "#the data is sort of like a csv, except the cols are separated by\n",
    "#an arbitrary number of spaces. Luckily we can use this regex sep=r\"\\s*\"\n",
    "#to indicate an arbitrary number of spaces. We also need to indicate \n",
    "#the engine we are using is Python, so that we can use regex.\n",
    "#The datafile also has no col headers, so we'll need to rename the cols\n",
    "#manually. Note that now the columns include all 12 numerical columns and\n",
    "#the one categorical column.\n",
    "def get_data():#for loading and transforming data.    \n",
    "    # regex allows arbitrary number of spaces in separator\n",
    "    df = pd.read_csv('./housing.data', header=None, sep=r\"\\s*\", engine='python')\n",
    "    df.columns = [\n",
    "        'crim', # numerical\n",
    "        'zn', # numerical\n",
    "        'nonretail', # numerical\n",
    "        'river', # binary\n",
    "        'nox', # numerical\n",
    "        'rooms', # numerical\n",
    "        'age', # numerical\n",
    "        'dis', # numerical\n",
    "        'rad', # numerical\n",
    "        'tax', # numerical\n",
    "        'ptratio', # numerical\n",
    "        'b', # numerical\n",
    "        'lstat', # numerical\n",
    "        'medv', # numerical -- this is the target\n",
    "    ]\n",
    "\n",
    "    #create an instance of the DataTransformer and use it to transform the data\n",
    "    transformer = DataTransformer()\n",
    "\n",
    "    #NOW, WE RANDOMLY SELECT THE TRAINING AND TEST SET.\n",
    "    N = len(df) #simply the number of rows of a dataframe. \n",
    "    #note that len(df.index) may be a bit faster than len(df)\n",
    "    #while both of these are not equivalent to len(df.count()), which count the \n",
    "    #number of rows excluding NaN values, which make it even slower.\n",
    "    \n",
    "    #split the data into 70% train and 30% test\n",
    "    train_idx = np.random.choice(N, size=int(0.7*N), replace=False)\n",
    "    test_idx = [i for i in range(N) if i not in train_idx]\n",
    "    df_train = df.loc[train_idx] #TRAINING DF\n",
    "    df_test = df.loc[test_idx] #TESTING DF\n",
    "\n",
    "    #now fit and transform the training data,\n",
    "    #while only need to transform (w/o fitting) the testing data.\n",
    "    Xtrain = transformer.fit_transform(df_train) #convert from df to numpy matrix\n",
    "    Ytrain = np.log(df_train['medv'].as_matrix())\n",
    "    Xtest = transformer.transform(df_test)\n",
    "    Ytest = np.log(df_test['medv'].as_matrix())\n",
    "    return Xtrain, Ytrain, Xtest, Ytest\n",
    "    #note that the take the log of the target, which is the median house prices.\n",
    "    #this is a common operation for scaling numerical cols that have large ranges\n",
    "    #but you only care about how correct you are relative to the values.\n",
    "    #what we mean by that is: if you have a house of $10,000, and you are $5,000 off\n",
    "    #on your prediction, then you'll consider that \"very wrong\" prediction.\n",
    "    #But if you have a $1,000,000 house, and you are $5,000 off, you don't care much.\n",
    "\n",
    "#FINALLY, WE ARRIVE AT THE MAIN FUNCTION\n",
    "if __name__ == '__main__':\n",
    "    Xtrain, Ytrain, Xtest, Ytest = get_data()\n",
    "\n",
    "    #first, create an instance of a RF.\n",
    "    #now we use 100 trees, but encourage to try different values, maybe up to 500\n",
    "    model = RandomForestRegressor(n_estimators=100) # try 10, 20, 50, 100, 200\n",
    "    model.fit(Xtrain, Ytrain) #find coeff of the model\n",
    "    predictions = model.predict(Xtest) #get the prediction, so that\n",
    "    #later we can compare with the target.\n",
    "\n",
    "    # plot predictions vs targets\n",
    "    plt.scatter(Ytest, predictions)#target is x-axis, predictions is y-axis\n",
    "    #if the prediction is accurate, then this curve is close to the line y=x\n",
    "    #so here we are plotting y=x for comparison too.\n",
    "    plt.xlabel(\"target\")\n",
    "    plt.ylabel(\"prediction\")\n",
    "    ymin = np.round( min( min(Ytest), min(predictions) ) )\n",
    "    ymax = np.ceil( max( max(Ytest), max(predictions) ) )\n",
    "    print(\"ymin:\", ymin, \"ymax:\", ymax)\n",
    "    r = range(int(ymin), int(ymax) + 1)\n",
    "    plt.plot(r, r)\n",
    "    plt.show()\n",
    "\n",
    "\n",
    "    #do an alternative plots, with just target and prediction separately\n",
    "    plt.plot(Ytest, label='targets')\n",
    "    plt.plot(predictions, label='predictions')\n",
    "    plt.legend()\n",
    "    plt.show()\n",
    "\n",
    "    #do Cross-Validation on all of our models (by default, it's a 3-fold CV)\n",
    "    # do a quick baseline test\n",
    "    baseline = LinearRegression() #baseline\n",
    "    single_tree = DecisionTreeRegressor() #single DT\n",
    "    print(\"CV single tree:\", cross_val_score(single_tree, Xtrain, Ytrain).mean())\n",
    "    print(\"CV baseline:\", cross_val_score(baseline, Xtrain, Ytrain).mean())\n",
    "    print(\"CV forest:\", cross_val_score(model, Xtrain, Ytrain).mean())\n",
    "\n",
    "\n",
    "    #we also print the test error of all 3 models\n",
    "    # test score\n",
    "    single_tree.fit(Xtrain, Ytrain)\n",
    "    baseline.fit(Xtrain, Ytrain)\n",
    "    print(\"test score single tree:\", single_tree.score(Xtest, Ytest))\n",
    "    print(\"test score baseline:\", baseline.score(Xtest, Ytest))\n",
    "    print(\"test score forest:\", model.score(Xtest, Ytest))\n",
    "\n",
    "#for the train score:\n",
    "#Single DT does bad, only 0.61, the baseline a bit better: 0.69,\n",
    "#the RF is even better: 0.80\n",
    "\n",
    "#the same pattern reflects in the test score too."
   ]
  },
  {
   "cell_type": "code",
   "execution_count": null,
   "metadata": {
    "collapsed": true
   },
   "outputs": [],
   "source": []
  },
  {
   "cell_type": "code",
   "execution_count": null,
   "metadata": {
    "collapsed": true
   },
   "outputs": [],
   "source": []
  }
 ],
 "metadata": {
  "kernelspec": {
   "display_name": "Python [Root]",
   "language": "python",
   "name": "Python [Root]"
  },
  "language_info": {
   "codemirror_mode": {
    "name": "ipython",
    "version": 3
   },
   "file_extension": ".py",
   "mimetype": "text/x-python",
   "name": "python",
   "nbconvert_exporter": "python",
   "pygments_lexer": "ipython3",
   "version": "3.5.2"
  }
 },
 "nbformat": 4,
 "nbformat_minor": 0
}
